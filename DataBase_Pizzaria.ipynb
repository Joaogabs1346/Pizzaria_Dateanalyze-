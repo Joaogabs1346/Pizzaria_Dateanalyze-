{
 "cells": [
  {
   "cell_type": "code",
   "execution_count": 1,
   "id": "3a460da0",
   "metadata": {},
   "outputs": [
    {
     "data": {
      "text/html": [
       "<div>\n",
       "<style scoped>\n",
       "    .dataframe tbody tr th:only-of-type {\n",
       "        vertical-align: middle;\n",
       "    }\n",
       "\n",
       "    .dataframe tbody tr th {\n",
       "        vertical-align: top;\n",
       "    }\n",
       "\n",
       "    .dataframe thead th {\n",
       "        text-align: right;\n",
       "    }\n",
       "</style>\n",
       "<table border=\"1\" class=\"dataframe\">\n",
       "  <thead>\n",
       "    <tr style=\"text-align: right;\">\n",
       "      <th></th>\n",
       "      <th>id</th>\n",
       "      <th>address</th>\n",
       "      <th>categories</th>\n",
       "      <th>primaryCategories</th>\n",
       "      <th>city</th>\n",
       "      <th>country</th>\n",
       "      <th>latitude</th>\n",
       "      <th>longitude</th>\n",
       "      <th>menus.amountMax</th>\n",
       "      <th>menus.amountMin</th>\n",
       "      <th>menus.currency</th>\n",
       "      <th>menus.description</th>\n",
       "      <th>menus.name</th>\n",
       "      <th>name</th>\n",
       "      <th>priceRangeCurrency</th>\n",
       "      <th>priceRangeMin</th>\n",
       "      <th>priceRangeMax</th>\n",
       "      <th>province</th>\n",
       "    </tr>\n",
       "  </thead>\n",
       "  <tbody>\n",
       "    <tr>\n",
       "      <th>0</th>\n",
       "      <td>AVz3Y-7h3D1zeR_xDAqm</td>\n",
       "      <td>4203 E Kiehl Ave</td>\n",
       "      <td>Pizza,Restaurant,American restaurants,Pizza Pl...</td>\n",
       "      <td>Accommodation &amp; Food Services</td>\n",
       "      <td>Sherwood</td>\n",
       "      <td>US</td>\n",
       "      <td>34.832300</td>\n",
       "      <td>-92.183800</td>\n",
       "      <td>7.98</td>\n",
       "      <td>7.98</td>\n",
       "      <td>USD</td>\n",
       "      <td>NaN</td>\n",
       "      <td>Cheese Pizza</td>\n",
       "      <td>Shotgun Dans Pizza</td>\n",
       "      <td>USD</td>\n",
       "      <td>0</td>\n",
       "      <td>25</td>\n",
       "      <td>AR</td>\n",
       "    </tr>\n",
       "    <tr>\n",
       "      <th>1</th>\n",
       "      <td>AVweGPFF_7pvs4fzAAzQ</td>\n",
       "      <td>25 E Camelback Rd</td>\n",
       "      <td>Pizza,Pizza Place,Restaurants</td>\n",
       "      <td>Accommodation &amp; Food Services</td>\n",
       "      <td>Phoenix</td>\n",
       "      <td>US</td>\n",
       "      <td>33.509266</td>\n",
       "      <td>-112.073044</td>\n",
       "      <td>6.00</td>\n",
       "      <td>6.00</td>\n",
       "      <td>USD</td>\n",
       "      <td>NaN</td>\n",
       "      <td>Pizza Cookie</td>\n",
       "      <td>Sauce Pizza Wine</td>\n",
       "      <td>USD</td>\n",
       "      <td>0</td>\n",
       "      <td>25</td>\n",
       "      <td>AZ</td>\n",
       "    </tr>\n",
       "    <tr>\n",
       "      <th>2</th>\n",
       "      <td>AVwdRGa9_7pvs4fz4E3K</td>\n",
       "      <td>3703 Paxton Ave</td>\n",
       "      <td>Restaurant,Pizza Place,Restaurants</td>\n",
       "      <td>Accommodation &amp; Food Services</td>\n",
       "      <td>Cincinnati</td>\n",
       "      <td>US</td>\n",
       "      <td>39.144883</td>\n",
       "      <td>-84.432685</td>\n",
       "      <td>6.49</td>\n",
       "      <td>6.49</td>\n",
       "      <td>USD</td>\n",
       "      <td>a saucelessampcomma double cheese pizza with a...</td>\n",
       "      <td>Pizza Blanca</td>\n",
       "      <td>Mios Pizzeria</td>\n",
       "      <td>USD</td>\n",
       "      <td>0</td>\n",
       "      <td>25</td>\n",
       "      <td>OH</td>\n",
       "    </tr>\n",
       "    <tr>\n",
       "      <th>3</th>\n",
       "      <td>AVwdX4psIN2L1WUfvJB1</td>\n",
       "      <td>30495 John R Rd</td>\n",
       "      <td>Pizza,Carry-out food,Pizza Place,Restaurants</td>\n",
       "      <td>Accommodation &amp; Food Services</td>\n",
       "      <td>Madison Heights</td>\n",
       "      <td>US</td>\n",
       "      <td>42.516669</td>\n",
       "      <td>-83.106630</td>\n",
       "      <td>5.99</td>\n",
       "      <td>5.99</td>\n",
       "      <td>USD</td>\n",
       "      <td>NaN</td>\n",
       "      <td>Small Pizza</td>\n",
       "      <td>Hungry Howies Pizza</td>\n",
       "      <td>USD</td>\n",
       "      <td>25</td>\n",
       "      <td>40</td>\n",
       "      <td>MI</td>\n",
       "    </tr>\n",
       "    <tr>\n",
       "      <th>4</th>\n",
       "      <td>AVwdaeTtkufWRAb55pSH</td>\n",
       "      <td>3600 Eastern Ave</td>\n",
       "      <td>Pizza,American restaurants,Pizza Place,Pizza e...</td>\n",
       "      <td>Accommodation &amp; Food Services</td>\n",
       "      <td>Baltimore</td>\n",
       "      <td>US</td>\n",
       "      <td>39.286630</td>\n",
       "      <td>-76.566984</td>\n",
       "      <td>5.49</td>\n",
       "      <td>5.49</td>\n",
       "      <td>USD</td>\n",
       "      <td>NaN</td>\n",
       "      <td>Pizza Sub</td>\n",
       "      <td>Spartan Pizzeria</td>\n",
       "      <td>USD</td>\n",
       "      <td>0</td>\n",
       "      <td>25</td>\n",
       "      <td>MD</td>\n",
       "    </tr>\n",
       "    <tr>\n",
       "      <th>...</th>\n",
       "      <td>...</td>\n",
       "      <td>...</td>\n",
       "      <td>...</td>\n",
       "      <td>...</td>\n",
       "      <td>...</td>\n",
       "      <td>...</td>\n",
       "      <td>...</td>\n",
       "      <td>...</td>\n",
       "      <td>...</td>\n",
       "      <td>...</td>\n",
       "      <td>...</td>\n",
       "      <td>...</td>\n",
       "      <td>...</td>\n",
       "      <td>...</td>\n",
       "      <td>...</td>\n",
       "      <td>...</td>\n",
       "      <td>...</td>\n",
       "      <td>...</td>\n",
       "    </tr>\n",
       "    <tr>\n",
       "      <th>9995</th>\n",
       "      <td>AVwdKXFYByjofQCxmIyZ</td>\n",
       "      <td>1126 E Lovejoy St</td>\n",
       "      <td>Pizza Place</td>\n",
       "      <td>Accommodation &amp; Food Services</td>\n",
       "      <td>Buffalo</td>\n",
       "      <td>US</td>\n",
       "      <td>42.889759</td>\n",
       "      <td>-78.806747</td>\n",
       "      <td>37.10</td>\n",
       "      <td>7.10</td>\n",
       "      <td>USD</td>\n",
       "      <td>NaN</td>\n",
       "      <td>Super Steak Pizza</td>\n",
       "      <td>Carbone's Pizzeria</td>\n",
       "      <td>USD</td>\n",
       "      <td>0</td>\n",
       "      <td>25</td>\n",
       "      <td>NY</td>\n",
       "    </tr>\n",
       "    <tr>\n",
       "      <th>9996</th>\n",
       "      <td>AVwdKXFYByjofQCxmIyZ</td>\n",
       "      <td>1126 E Lovejoy St</td>\n",
       "      <td>Pizza Place</td>\n",
       "      <td>Accommodation &amp; Food Services</td>\n",
       "      <td>Buffalo</td>\n",
       "      <td>US</td>\n",
       "      <td>42.889759</td>\n",
       "      <td>-78.806747</td>\n",
       "      <td>10.10</td>\n",
       "      <td>10.10</td>\n",
       "      <td>USD</td>\n",
       "      <td>NaN</td>\n",
       "      <td>Large Cheese &amp; 1 Item Pizza</td>\n",
       "      <td>Carbone's Pizzeria</td>\n",
       "      <td>USD</td>\n",
       "      <td>0</td>\n",
       "      <td>25</td>\n",
       "      <td>NY</td>\n",
       "    </tr>\n",
       "    <tr>\n",
       "      <th>9997</th>\n",
       "      <td>AVz6kzsQFcQ3k02bDhwQ</td>\n",
       "      <td>3641 E Main St</td>\n",
       "      <td>Pizza Place,Restaurants</td>\n",
       "      <td>Accommodation &amp; Food Services</td>\n",
       "      <td>Saint Charles</td>\n",
       "      <td>US</td>\n",
       "      <td>41.921300</td>\n",
       "      <td>-88.275300</td>\n",
       "      <td>8.45</td>\n",
       "      <td>8.45</td>\n",
       "      <td>USD</td>\n",
       "      <td>NaN</td>\n",
       "      <td>Individual 6\" Pepperoni Stuffed Deep Dish Pizza</td>\n",
       "      <td>Giordano's Pizza</td>\n",
       "      <td>USD</td>\n",
       "      <td>0</td>\n",
       "      <td>25</td>\n",
       "      <td>IL</td>\n",
       "    </tr>\n",
       "    <tr>\n",
       "      <th>9998</th>\n",
       "      <td>AVz6kzsQFcQ3k02bDhwQ</td>\n",
       "      <td>3641 E Main St</td>\n",
       "      <td>Pizza Place,Restaurants</td>\n",
       "      <td>Accommodation &amp; Food Services</td>\n",
       "      <td>Saint Charles</td>\n",
       "      <td>US</td>\n",
       "      <td>41.921300</td>\n",
       "      <td>-88.275300</td>\n",
       "      <td>8.45</td>\n",
       "      <td>8.45</td>\n",
       "      <td>USD</td>\n",
       "      <td>NaN</td>\n",
       "      <td>Individual 6\" Cheese Stuffed Deep Dish Pizza</td>\n",
       "      <td>Giordano's Pizza</td>\n",
       "      <td>USD</td>\n",
       "      <td>0</td>\n",
       "      <td>25</td>\n",
       "      <td>IL</td>\n",
       "    </tr>\n",
       "    <tr>\n",
       "      <th>9999</th>\n",
       "      <td>AVwdG9zTkufWRAb52Y2A</td>\n",
       "      <td>7460 W Lake Mead Blvd</td>\n",
       "      <td>Pizza Place,Restaurant,Fast Food,Pizza</td>\n",
       "      <td>Accommodation &amp; Food Services</td>\n",
       "      <td>Las Vegas</td>\n",
       "      <td>US</td>\n",
       "      <td>36.196180</td>\n",
       "      <td>-115.256240</td>\n",
       "      <td>8.79</td>\n",
       "      <td>8.79</td>\n",
       "      <td>USD</td>\n",
       "      <td>NaN</td>\n",
       "      <td>King Arthur's Supreme Pizza</td>\n",
       "      <td>Round Table Pizza</td>\n",
       "      <td>USD</td>\n",
       "      <td>0</td>\n",
       "      <td>25</td>\n",
       "      <td>NV</td>\n",
       "    </tr>\n",
       "  </tbody>\n",
       "</table>\n",
       "<p>9960 rows × 18 columns</p>\n",
       "</div>"
      ],
      "text/plain": [
       "                        id                address  \\\n",
       "0     AVz3Y-7h3D1zeR_xDAqm       4203 E Kiehl Ave   \n",
       "1     AVweGPFF_7pvs4fzAAzQ      25 E Camelback Rd   \n",
       "2     AVwdRGa9_7pvs4fz4E3K        3703 Paxton Ave   \n",
       "3     AVwdX4psIN2L1WUfvJB1        30495 John R Rd   \n",
       "4     AVwdaeTtkufWRAb55pSH       3600 Eastern Ave   \n",
       "...                    ...                    ...   \n",
       "9995  AVwdKXFYByjofQCxmIyZ      1126 E Lovejoy St   \n",
       "9996  AVwdKXFYByjofQCxmIyZ      1126 E Lovejoy St   \n",
       "9997  AVz6kzsQFcQ3k02bDhwQ         3641 E Main St   \n",
       "9998  AVz6kzsQFcQ3k02bDhwQ         3641 E Main St   \n",
       "9999  AVwdG9zTkufWRAb52Y2A  7460 W Lake Mead Blvd   \n",
       "\n",
       "                                             categories  \\\n",
       "0     Pizza,Restaurant,American restaurants,Pizza Pl...   \n",
       "1                         Pizza,Pizza Place,Restaurants   \n",
       "2                    Restaurant,Pizza Place,Restaurants   \n",
       "3          Pizza,Carry-out food,Pizza Place,Restaurants   \n",
       "4     Pizza,American restaurants,Pizza Place,Pizza e...   \n",
       "...                                                 ...   \n",
       "9995                                        Pizza Place   \n",
       "9996                                        Pizza Place   \n",
       "9997                            Pizza Place,Restaurants   \n",
       "9998                            Pizza Place,Restaurants   \n",
       "9999             Pizza Place,Restaurant,Fast Food,Pizza   \n",
       "\n",
       "                  primaryCategories             city country   latitude  \\\n",
       "0     Accommodation & Food Services         Sherwood      US  34.832300   \n",
       "1     Accommodation & Food Services          Phoenix      US  33.509266   \n",
       "2     Accommodation & Food Services       Cincinnati      US  39.144883   \n",
       "3     Accommodation & Food Services  Madison Heights      US  42.516669   \n",
       "4     Accommodation & Food Services        Baltimore      US  39.286630   \n",
       "...                             ...              ...     ...        ...   \n",
       "9995  Accommodation & Food Services          Buffalo      US  42.889759   \n",
       "9996  Accommodation & Food Services          Buffalo      US  42.889759   \n",
       "9997  Accommodation & Food Services    Saint Charles      US  41.921300   \n",
       "9998  Accommodation & Food Services    Saint Charles      US  41.921300   \n",
       "9999  Accommodation & Food Services        Las Vegas      US  36.196180   \n",
       "\n",
       "       longitude  menus.amountMax  menus.amountMin menus.currency  \\\n",
       "0     -92.183800             7.98             7.98            USD   \n",
       "1    -112.073044             6.00             6.00            USD   \n",
       "2     -84.432685             6.49             6.49            USD   \n",
       "3     -83.106630             5.99             5.99            USD   \n",
       "4     -76.566984             5.49             5.49            USD   \n",
       "...          ...              ...              ...            ...   \n",
       "9995  -78.806747            37.10             7.10            USD   \n",
       "9996  -78.806747            10.10            10.10            USD   \n",
       "9997  -88.275300             8.45             8.45            USD   \n",
       "9998  -88.275300             8.45             8.45            USD   \n",
       "9999 -115.256240             8.79             8.79            USD   \n",
       "\n",
       "                                      menus.description  \\\n",
       "0                                                   NaN   \n",
       "1                                                   NaN   \n",
       "2     a saucelessampcomma double cheese pizza with a...   \n",
       "3                                                   NaN   \n",
       "4                                                   NaN   \n",
       "...                                                 ...   \n",
       "9995                                                NaN   \n",
       "9996                                                NaN   \n",
       "9997                                                NaN   \n",
       "9998                                                NaN   \n",
       "9999                                                NaN   \n",
       "\n",
       "                                           menus.name                 name  \\\n",
       "0                                        Cheese Pizza   Shotgun Dans Pizza   \n",
       "1                                        Pizza Cookie     Sauce Pizza Wine   \n",
       "2                                        Pizza Blanca        Mios Pizzeria   \n",
       "3                                         Small Pizza  Hungry Howies Pizza   \n",
       "4                                           Pizza Sub     Spartan Pizzeria   \n",
       "...                                               ...                  ...   \n",
       "9995                                Super Steak Pizza   Carbone's Pizzeria   \n",
       "9996                      Large Cheese & 1 Item Pizza   Carbone's Pizzeria   \n",
       "9997  Individual 6\" Pepperoni Stuffed Deep Dish Pizza     Giordano's Pizza   \n",
       "9998     Individual 6\" Cheese Stuffed Deep Dish Pizza     Giordano's Pizza   \n",
       "9999                      King Arthur's Supreme Pizza    Round Table Pizza   \n",
       "\n",
       "     priceRangeCurrency  priceRangeMin  priceRangeMax province  \n",
       "0                   USD              0             25       AR  \n",
       "1                   USD              0             25       AZ  \n",
       "2                   USD              0             25       OH  \n",
       "3                   USD             25             40       MI  \n",
       "4                   USD              0             25       MD  \n",
       "...                 ...            ...            ...      ...  \n",
       "9995                USD              0             25       NY  \n",
       "9996                USD              0             25       NY  \n",
       "9997                USD              0             25       IL  \n",
       "9998                USD              0             25       IL  \n",
       "9999                USD              0             25       NV  \n",
       "\n",
       "[9960 rows x 18 columns]"
      ]
     },
     "metadata": {},
     "output_type": "display_data"
    }
   ],
   "source": [
    "import pandas as pd\n",
    "import numpy  as np\n",
    "import datetime as dt\n",
    "import seaborn \n",
    "import matplotlib.pyplot as plt\n",
    "import plotly.graph_objects as go\n",
    "\n",
    "\n",
    "#Open a dataBase \n",
    "pizzaria_df = pd.read_csv(r\"D:\\Projetos bancos de dados\\Pizzaria\\Datafiniti_Pizza_Restaurants_and_the_Pizza_They_Sell_May19.csv\")\n",
    "\n",
    "#cleaning unnecessary data \n",
    "pizzaria_df = pizzaria_df.drop(['menuPageURL','postalCode','keys','dateAdded','dateUpdated','menus.dateSeen'],axis=1)\n",
    "pizzaria_df = pizzaria_df[(pizzaria_df['menus.amountMax'] != 0) & (pizzaria_df['menus.amountMin'] != 0)]\n",
    "display(pizzaria_df) "
   ]
  },
  {
   "cell_type": "code",
   "execution_count": 2,
   "id": "2515e21a",
   "metadata": {},
   "outputs": [
    {
     "data": {
      "text/html": [
       "<div>\n",
       "<style scoped>\n",
       "    .dataframe tbody tr th:only-of-type {\n",
       "        vertical-align: middle;\n",
       "    }\n",
       "\n",
       "    .dataframe tbody tr th {\n",
       "        vertical-align: top;\n",
       "    }\n",
       "\n",
       "    .dataframe thead th {\n",
       "        text-align: right;\n",
       "    }\n",
       "</style>\n",
       "<table border=\"1\" class=\"dataframe\">\n",
       "  <thead>\n",
       "    <tr style=\"text-align: right;\">\n",
       "      <th></th>\n",
       "      <th>Primary Categories</th>\n",
       "      <th>Values</th>\n",
       "    </tr>\n",
       "  </thead>\n",
       "  <tbody>\n",
       "    <tr>\n",
       "      <th>1</th>\n",
       "      <td>Accommodation &amp; Food Services</td>\n",
       "      <td>9869</td>\n",
       "    </tr>\n",
       "    <tr>\n",
       "      <th>2</th>\n",
       "      <td>Management of Companies &amp; Enterprises</td>\n",
       "      <td>43</td>\n",
       "    </tr>\n",
       "    <tr>\n",
       "      <th>3</th>\n",
       "      <td>Accommodation &amp; Food Services,Management of Co...</td>\n",
       "      <td>23</td>\n",
       "    </tr>\n",
       "    <tr>\n",
       "      <th>4</th>\n",
       "      <td>Retail,Accommodation &amp; Food Services</td>\n",
       "      <td>11</td>\n",
       "    </tr>\n",
       "    <tr>\n",
       "      <th>5</th>\n",
       "      <td>Retail</td>\n",
       "      <td>9</td>\n",
       "    </tr>\n",
       "    <tr>\n",
       "      <th>6</th>\n",
       "      <td>Wholesale Trade,Accommodation &amp; Food Services</td>\n",
       "      <td>2</td>\n",
       "    </tr>\n",
       "    <tr>\n",
       "      <th>7</th>\n",
       "      <td>Educational Services,Accommodation &amp; Food Serv...</td>\n",
       "      <td>2</td>\n",
       "    </tr>\n",
       "    <tr>\n",
       "      <th>8</th>\n",
       "      <td>Wholesale Trade,Accommodation &amp; Food Services,...</td>\n",
       "      <td>1</td>\n",
       "    </tr>\n",
       "  </tbody>\n",
       "</table>\n",
       "</div>"
      ],
      "text/plain": [
       "                                  Primary Categories  Values\n",
       "1                      Accommodation & Food Services    9869\n",
       "2              Management of Companies & Enterprises      43\n",
       "3  Accommodation & Food Services,Management of Co...      23\n",
       "4               Retail,Accommodation & Food Services      11\n",
       "5                                             Retail       9\n",
       "6      Wholesale Trade,Accommodation & Food Services       2\n",
       "7  Educational Services,Accommodation & Food Serv...       2\n",
       "8  Wholesale Trade,Accommodation & Food Services,...       1"
      ]
     },
     "metadata": {},
     "output_type": "display_data"
    },
    {
     "data": {
      "text/plain": [
       "'\\nAnalysis:\\nyou can see that there are several pizzerias that have different categories, such as\\nthey serve pizzas and function as restaurants \\n'"
      ]
     },
     "execution_count": 2,
     "metadata": {},
     "output_type": "execute_result"
    }
   ],
   "source": [
    "#Question 1:\n",
    "'''\n",
    "What are the categories of resturants? \n",
    "'''\n",
    "categories = pizzaria_df['primaryCategories'].value_counts().reset_index().rename(columns ={'index' :'Primary Categories','primaryCategories':'Values'},\\\n",
    "                                                                                  index={0:1,1:2,2:3,3:4,4:5,5:6,6:7,7:8})\n",
    "display(categories)\n",
    "'''\n",
    "Analysis:\n",
    "you can see that there are several pizzerias that have different categories, such as\n",
    "they serve pizzas and function as restaurants \n",
    "'''\n"
   ]
  },
  {
   "cell_type": "code",
   "execution_count": 3,
   "id": "e700f9a8",
   "metadata": {},
   "outputs": [
    {
     "data": {
      "text/html": [
       "<div>\n",
       "<style scoped>\n",
       "    .dataframe tbody tr th:only-of-type {\n",
       "        vertical-align: middle;\n",
       "    }\n",
       "\n",
       "    .dataframe tbody tr th {\n",
       "        vertical-align: top;\n",
       "    }\n",
       "\n",
       "    .dataframe thead th {\n",
       "        text-align: right;\n",
       "    }\n",
       "</style>\n",
       "<table border=\"1\" class=\"dataframe\">\n",
       "  <thead>\n",
       "    <tr style=\"text-align: right;\">\n",
       "      <th></th>\n",
       "      <th>city</th>\n",
       "      <th>province</th>\n",
       "      <th>restaurants by city</th>\n",
       "    </tr>\n",
       "  </thead>\n",
       "  <tbody>\n",
       "    <tr>\n",
       "      <th>1</th>\n",
       "      <td>New York</td>\n",
       "      <td>NY</td>\n",
       "      <td>655</td>\n",
       "    </tr>\n",
       "    <tr>\n",
       "      <th>2</th>\n",
       "      <td>Brooklyn</td>\n",
       "      <td>NY</td>\n",
       "      <td>460</td>\n",
       "    </tr>\n",
       "    <tr>\n",
       "      <th>3</th>\n",
       "      <td>Los Angeles</td>\n",
       "      <td>CA</td>\n",
       "      <td>193</td>\n",
       "    </tr>\n",
       "    <tr>\n",
       "      <th>4</th>\n",
       "      <td>Buffalo</td>\n",
       "      <td>NY</td>\n",
       "      <td>176</td>\n",
       "    </tr>\n",
       "    <tr>\n",
       "      <th>5</th>\n",
       "      <td>Philadelphia</td>\n",
       "      <td>PA</td>\n",
       "      <td>140</td>\n",
       "    </tr>\n",
       "    <tr>\n",
       "      <th>6</th>\n",
       "      <td>Seattle</td>\n",
       "      <td>WA</td>\n",
       "      <td>135</td>\n",
       "    </tr>\n",
       "    <tr>\n",
       "      <th>6</th>\n",
       "      <td>Chicago</td>\n",
       "      <td>IL</td>\n",
       "      <td>133</td>\n",
       "    </tr>\n",
       "    <tr>\n",
       "      <th>8</th>\n",
       "      <td>Flushing</td>\n",
       "      <td>NY</td>\n",
       "      <td>124</td>\n",
       "    </tr>\n",
       "    <tr>\n",
       "      <th>8</th>\n",
       "      <td>San Francisco</td>\n",
       "      <td>CA</td>\n",
       "      <td>110</td>\n",
       "    </tr>\n",
       "    <tr>\n",
       "      <th>10</th>\n",
       "      <td>Bronx</td>\n",
       "      <td>NY</td>\n",
       "      <td>88</td>\n",
       "    </tr>\n",
       "  </tbody>\n",
       "</table>\n",
       "</div>"
      ],
      "text/plain": [
       "             city province  restaurants by city\n",
       "1        New York       NY                  655\n",
       "2        Brooklyn       NY                  460\n",
       "3     Los Angeles       CA                  193\n",
       "4         Buffalo       NY                  176\n",
       "5    Philadelphia       PA                  140\n",
       "6         Seattle       WA                  135\n",
       "6         Chicago       IL                  133\n",
       "8        Flushing       NY                  124\n",
       "8   San Francisco       CA                  110\n",
       "10          Bronx       NY                   88"
      ]
     },
     "metadata": {},
     "output_type": "display_data"
    },
    {
     "name": "stdout",
     "output_type": "stream",
     "text": [
      "========================================================================================================================\n"
     ]
    },
    {
     "data": {
      "image/png": "[encoded data removed]",
      "text/plain": [
       "<Figure size 432x288 with 1 Axes>"
      ]
     },
     "metadata": {
      "needs_background": "light"
     },
     "output_type": "display_data"
    }
   ],
   "source": [
    "#Question 2:\n",
    "'''\n",
    "What are the 10 cities with the most pizzerias by province?  \n",
    "'''\n",
    "cities_for_provinces = pizzaria_df[['city','province']].value_counts().reset_index().rename(columns={0:'restaurants by city'},\\\n",
    "                                                                                     index={0:1,1:2,2:3,3:4,4:5,5:6,7:8,9:10})\n",
    "\n",
    "cities_for_provinces_plot = pizzaria_df[['city']].value_counts().head(10).reset_index().rename(columns={0:'restaurants by city'},\\\n",
    "                                                                                               index={0:1,1:2,2:3,3:4,4:5,5:6,7:8,9:10}).plot('city','restaurants by city',kind='bar')\n",
    "\n",
    "display(cities_for_provinces.head(10))\n",
    "print('==='*40)                                                                                                                                                               \n"
   ]
  },
  {
   "cell_type": "code",
   "execution_count": 4,
   "id": "9e987e6c",
   "metadata": {},
   "outputs": [
    {
     "data": {
      "text/html": [
       "<div>\n",
       "<style scoped>\n",
       "    .dataframe tbody tr th:only-of-type {\n",
       "        vertical-align: middle;\n",
       "    }\n",
       "\n",
       "    .dataframe tbody tr th {\n",
       "        vertical-align: top;\n",
       "    }\n",
       "\n",
       "    .dataframe thead th {\n",
       "        text-align: right;\n",
       "    }\n",
       "</style>\n",
       "<table border=\"1\" class=\"dataframe\">\n",
       "  <thead>\n",
       "    <tr style=\"text-align: right;\">\n",
       "      <th></th>\n",
       "      <th>provinces</th>\n",
       "      <th>frequency</th>\n",
       "    </tr>\n",
       "  </thead>\n",
       "  <tbody>\n",
       "    <tr>\n",
       "      <th>1</th>\n",
       "      <td>NY</td>\n",
       "      <td>2638</td>\n",
       "    </tr>\n",
       "    <tr>\n",
       "      <th>2</th>\n",
       "      <td>CA</td>\n",
       "      <td>1379</td>\n",
       "    </tr>\n",
       "    <tr>\n",
       "      <th>3</th>\n",
       "      <td>PA</td>\n",
       "      <td>813</td>\n",
       "    </tr>\n",
       "    <tr>\n",
       "      <th>4</th>\n",
       "      <td>FL</td>\n",
       "      <td>595</td>\n",
       "    </tr>\n",
       "    <tr>\n",
       "      <th>5</th>\n",
       "      <td>TX</td>\n",
       "      <td>479</td>\n",
       "    </tr>\n",
       "    <tr>\n",
       "      <th>6</th>\n",
       "      <td>IL</td>\n",
       "      <td>381</td>\n",
       "    </tr>\n",
       "    <tr>\n",
       "      <th>6</th>\n",
       "      <td>MI</td>\n",
       "      <td>362</td>\n",
       "    </tr>\n",
       "    <tr>\n",
       "      <th>8</th>\n",
       "      <td>OH</td>\n",
       "      <td>324</td>\n",
       "    </tr>\n",
       "    <tr>\n",
       "      <th>8</th>\n",
       "      <td>AZ</td>\n",
       "      <td>288</td>\n",
       "    </tr>\n",
       "    <tr>\n",
       "      <th>10</th>\n",
       "      <td>WA</td>\n",
       "      <td>262</td>\n",
       "    </tr>\n",
       "  </tbody>\n",
       "</table>\n",
       "</div>"
      ],
      "text/plain": [
       "   provinces  frequency \n",
       "1         NY        2638\n",
       "2         CA        1379\n",
       "3         PA         813\n",
       "4         FL         595\n",
       "5         TX         479\n",
       "6         IL         381\n",
       "6         MI         362\n",
       "8         OH         324\n",
       "8         AZ         288\n",
       "10        WA         262"
      ]
     },
     "metadata": {},
     "output_type": "display_data"
    },
    {
     "name": "stdout",
     "output_type": "stream",
     "text": [
      "========================================================================================================================\n"
     ]
    },
    {
     "data": {
      "image/png": "[encoded data removed]",
      "text/plain": [
       "<Figure size 432x288 with 1 Axes>"
      ]
     },
     "metadata": {
      "needs_background": "light"
     },
     "output_type": "display_data"
    }
   ],
   "source": [
    "#Question 3:\n",
    "'''\n",
    "top 10 frequented provinces \n",
    "'''\n",
    "provinces = pizzaria_df['province'].value_counts().reset_index().rename(columns={'index':'provinces','province':'frequency '},\\\n",
    "                                                                    index={0:1,1:2,2:3,3:4,4:5,5:6,7:8,9:10})\n",
    "plot_df= pizzaria_df['province'].value_counts().head(10).reset_index().rename(columns={'index':'provinces','province':'frequency'},\\\n",
    "                                                                      index={0:1,1:2,2:3,3:4,4:5,5:6,7:8,9:10}).plot('provinces','frequency',kind ='barh')\n",
    "\n",
    "display(provinces.head(10))\n",
    "                                                               \n",
    "print('==='*40)"
   ]
  },
  {
   "cell_type": "code",
   "execution_count": 5,
   "id": "117d7564",
   "metadata": {},
   "outputs": [
    {
     "name": "stdout",
     "output_type": "stream",
     "text": [
      "total franchises in the data set: 2272\n"
     ]
    },
    {
     "data": {
      "text/html": [
       "<div>\n",
       "<style scoped>\n",
       "    .dataframe tbody tr th:only-of-type {\n",
       "        vertical-align: middle;\n",
       "    }\n",
       "\n",
       "    .dataframe tbody tr th {\n",
       "        vertical-align: top;\n",
       "    }\n",
       "\n",
       "    .dataframe thead th {\n",
       "        text-align: right;\n",
       "    }\n",
       "</style>\n",
       "<table border=\"1\" class=\"dataframe\">\n",
       "  <thead>\n",
       "    <tr style=\"text-align: right;\">\n",
       "      <th></th>\n",
       "      <th>Name</th>\n",
       "      <th>number of branches</th>\n",
       "    </tr>\n",
       "  </thead>\n",
       "  <tbody>\n",
       "    <tr>\n",
       "      <th>1</th>\n",
       "      <td>California Pizza Kitchen</td>\n",
       "      <td>261</td>\n",
       "    </tr>\n",
       "    <tr>\n",
       "      <th>2</th>\n",
       "      <td>Papa Murphy's</td>\n",
       "      <td>208</td>\n",
       "    </tr>\n",
       "    <tr>\n",
       "      <th>3</th>\n",
       "      <td>Papa John's Pizza</td>\n",
       "      <td>124</td>\n",
       "    </tr>\n",
       "    <tr>\n",
       "      <th>4</th>\n",
       "      <td>Papa Murphys</td>\n",
       "      <td>69</td>\n",
       "    </tr>\n",
       "    <tr>\n",
       "      <th>5</th>\n",
       "      <td>Gino's Pizzeria</td>\n",
       "      <td>68</td>\n",
       "    </tr>\n",
       "    <tr>\n",
       "      <th>6</th>\n",
       "      <td>Pirates Pizza</td>\n",
       "      <td>55</td>\n",
       "    </tr>\n",
       "    <tr>\n",
       "      <th>6</th>\n",
       "      <td>Domino's Pizza</td>\n",
       "      <td>54</td>\n",
       "    </tr>\n",
       "    <tr>\n",
       "      <th>8</th>\n",
       "      <td>Round Table Pizza</td>\n",
       "      <td>54</td>\n",
       "    </tr>\n",
       "    <tr>\n",
       "      <th>8</th>\n",
       "      <td>Olympia Pizza and Spaghetti House</td>\n",
       "      <td>54</td>\n",
       "    </tr>\n",
       "    <tr>\n",
       "      <th>10</th>\n",
       "      <td>Pizza Hut</td>\n",
       "      <td>51</td>\n",
       "    </tr>\n",
       "  </tbody>\n",
       "</table>\n",
       "</div>"
      ],
      "text/plain": [
       "                                 Name  number of branches\n",
       "1            California Pizza Kitchen                 261\n",
       "2                       Papa Murphy's                 208\n",
       "3                   Papa John's Pizza                 124\n",
       "4                        Papa Murphys                  69\n",
       "5                     Gino's Pizzeria                  68\n",
       "6                       Pirates Pizza                  55\n",
       "6                      Domino's Pizza                  54\n",
       "8                   Round Table Pizza                  54\n",
       "8   Olympia Pizza and Spaghetti House                  54\n",
       "10                          Pizza Hut                  51"
      ]
     },
     "metadata": {},
     "output_type": "display_data"
    },
    {
     "name": "stdout",
     "output_type": "stream",
     "text": [
      "========================================================================================================================\n"
     ]
    },
    {
     "data": {
      "image/png": "[encoded data removed]",
      "text/plain": [
       "<Figure size 432x288 with 1 Axes>"
      ]
     },
     "metadata": {
      "needs_background": "light"
     },
     "output_type": "display_data"
    }
   ],
   "source": [
    "#Question 4:\n",
    "'''\n",
    "\n",
    "'''\n",
    "print('total franchises in the data set: {}'.format(len(np.unique(pizzaria_df['id']))))\n",
    "restaurant_list = pizzaria_df['name'].value_counts().reset_index().rename(columns ={'index':'Name','name':'number of branches'},\\\n",
    "                                                                          index={0:1,1:2,2:3,3:4,4:5,5:6,7:8,9:10})\n",
    "\n",
    "pizzaria_df['name'].value_counts().head(10).reset_index().rename(columns ={'index':'Name','name':'Values'}).plot('Name','Values',kind ='barh')\n",
    "                                                       \n",
    "display(restaurant_list.head(10))\n",
    "print('==='*40) "
   ]
  },
  {
   "cell_type": "code",
   "execution_count": 6,
   "id": "a7d55298",
   "metadata": {},
   "outputs": [
    {
     "data": {
      "text/html": [
       "<div>\n",
       "<style scoped>\n",
       "    .dataframe tbody tr th:only-of-type {\n",
       "        vertical-align: middle;\n",
       "    }\n",
       "\n",
       "    .dataframe tbody tr th {\n",
       "        vertical-align: top;\n",
       "    }\n",
       "\n",
       "    .dataframe thead th {\n",
       "        text-align: right;\n",
       "    }\n",
       "</style>\n",
       "<table border=\"1\" class=\"dataframe\">\n",
       "  <thead>\n",
       "    <tr style=\"text-align: right;\">\n",
       "      <th></th>\n",
       "      <th>Name</th>\n",
       "      <th>menus.name</th>\n",
       "    </tr>\n",
       "  </thead>\n",
       "  <tbody>\n",
       "    <tr>\n",
       "      <th>1</th>\n",
       "      <td>Cheese Pizza</td>\n",
       "      <td>298</td>\n",
       "    </tr>\n",
       "    <tr>\n",
       "      <th>2</th>\n",
       "      <td>White Pizza</td>\n",
       "      <td>225</td>\n",
       "    </tr>\n",
       "    <tr>\n",
       "      <th>3</th>\n",
       "      <td>Hawaiian Pizza</td>\n",
       "      <td>149</td>\n",
       "    </tr>\n",
       "    <tr>\n",
       "      <th>4</th>\n",
       "      <td>Buffalo Chicken Pizza</td>\n",
       "      <td>112</td>\n",
       "    </tr>\n",
       "    <tr>\n",
       "      <th>5</th>\n",
       "      <td>Margherita Pizza</td>\n",
       "      <td>104</td>\n",
       "    </tr>\n",
       "    <tr>\n",
       "      <th>6</th>\n",
       "      <td>Veggie Pizza</td>\n",
       "      <td>95</td>\n",
       "    </tr>\n",
       "    <tr>\n",
       "      <th>7</th>\n",
       "      <td>Bbq Chicken Pizza</td>\n",
       "      <td>81</td>\n",
       "    </tr>\n",
       "    <tr>\n",
       "      <th>8</th>\n",
       "      <td>Greek Pizza</td>\n",
       "      <td>72</td>\n",
       "    </tr>\n",
       "    <tr>\n",
       "      <th>9</th>\n",
       "      <td>Pizza Sub</td>\n",
       "      <td>71</td>\n",
       "    </tr>\n",
       "    <tr>\n",
       "      <th>10</th>\n",
       "      <td>Pizza Burger</td>\n",
       "      <td>70</td>\n",
       "    </tr>\n",
       "  </tbody>\n",
       "</table>\n",
       "</div>"
      ],
      "text/plain": [
       "                     Name  menus.name\n",
       "1            Cheese Pizza         298\n",
       "2             White Pizza         225\n",
       "3          Hawaiian Pizza         149\n",
       "4   Buffalo Chicken Pizza         112\n",
       "5        Margherita Pizza         104\n",
       "6            Veggie Pizza          95\n",
       "7       Bbq Chicken Pizza          81\n",
       "8             Greek Pizza          72\n",
       "9               Pizza Sub          71\n",
       "10           Pizza Burger          70"
      ]
     },
     "metadata": {},
     "output_type": "display_data"
    },
    {
     "name": "stdout",
     "output_type": "stream",
     "text": [
      "========================================================================================================================\n"
     ]
    },
    {
     "data": {
      "text/plain": [
       "<AxesSubplot:xlabel='Name'>"
      ]
     },
     "execution_count": 6,
     "metadata": {},
     "output_type": "execute_result"
    },
    {
     "data": {
      "image/png": "[encoded data removed]",
      "text/plain": [
       "<Figure size 432x288 with 1 Axes>"
      ]
     },
     "metadata": {
      "needs_background": "light"
     },
     "output_type": "display_data"
    }
   ],
   "source": [
    "#Question 5:\n",
    "'''\n",
    "Top 10 Pizza flavors \n",
    "'''\n",
    "#Removed the 'pizza' line as it is generalized \n",
    "menu_pizza_df = pizzaria_df['menus.name'].value_counts().reset_index()\n",
    "menu_pizza_df = menu_pizza_df.drop(menu_pizza_df.index[[4]])\n",
    "menu_pizza_df = menu_pizza_df.rename(columns ={'index':'Name'},index={0:1,1:2,2:3,3:4})\n",
    "\n",
    "display(menu_pizza_df.head(10))\n",
    "print('==='*40) \n",
    "\n",
    "#I plotted by stages to remove the 'pizza' line \n",
    "menu_pizza_grapic_df = pizzaria_df['menus.name'].value_counts().head(10).reset_index().rename(columns ={'index':'Name'})                                                      \n",
    "menu_pizza_grapic_df = menu_pizza_grapic_df.drop(menu_pizza_grapic_df.index[[4]])\n",
    "menu_pizza_grapic_df.plot('Name','menus.name',kind='bar')  \n",
    "\n"
   ]
  },
  {
   "cell_type": "code",
   "execution_count": 12,
   "id": "e3480945",
   "metadata": {},
   "outputs": [
    {
     "data": {
      "application/vnd.plotly.v1+json": {
       "config": {
        "plotlyServerURL": "https://plot.ly"
       },
       "data": [
        {
         "lat": [
          34.8323,
          37.4478,
          32.707464,
          32.223015,
          42.925755,
          36.274975,
          40.71499,
          30.213724,
          33.927667,
          37.501901,
          40.6437,
          41.660914,
          43.604819,
          38.3358,
          40.79013,
          40.704542,
          40.085942,
          29.385755,
          40.299281,
          28.568121,
          34.863223,
          33.72854,
          41.421409,
          47.814792,
          40.765323,
          44.975726,
          29.673127,
          42.731341,
          35.18558,
          41.924422,
          25.779851,
          38.250343,
          33.150886,
          41.327322,
          33.741276,
          42.320011,
          32.785633,
          39.556702,
          42.955455,
          40.831812,
          33.883979,
          43.059261,
          46.178327,
          42.526497,
          42.72616,
          40.754666,
          36.09164,
          32.755574,
          40.677378,
          36.844691,
          38.190252,
          38.051919,
          28.282668,
          28.706351,
          47.655404,
          29.694913,
          36.066575,
          44.424628,
          33.159453,
          35.6865,
          39.478095,
          34.164745,
          38.7808,
          40.3385,
          42.727718,
          29.770742,
          39.964745,
          40.050748,
          41.571417,
          40.4286,
          33.011399,
          35.0455,
          40.494767,
          36.0705,
          45.5369,
          44.975731,
          40.734057,
          47.192493,
          29.013555,
          33.70856,
          39.347395,
          33.715916,
          34.006721,
          35.034582,
          47.899993,
          32.747276,
          41.50112,
          29.734111,
          34.2652,
          30.1311,
          33.7815,
          42.419,
          39.1873,
          29.992076,
          30.6735,
          39.891769,
          32.95677,
          42.689,
          38.4482,
          37.2702722,
          32.8798,
          26.1539,
          42.1705,
          33.866934,
          41.117934,
          33.867874,
          40.686832,
          37.39696,
          64.8505,
          27.492279,
          37.651844,
          40.465784,
          36.059636,
          39.79387,
          29.882507,
          40.767368,
          40.698128,
          40.76915,
          40.761803,
          27.996336,
          32.804533,
          30.212961,
          34.052925,
          33.917359,
          35.996804,
          32.780666,
          34.443173,
          32.159378,
          36.063827,
          33.812763,
          33.3951,
          33.365251,
          33.435691,
          40.737123,
          40.757476,
          25.656882,
          41.629927,
          37.788934,
          37.65845,
          38.90672,
          33.873432,
          43.57533,
          32.896774,
          37.717244,
          40.4108,
          33.025489,
          40.680796,
          33.987059,
          37.627263,
          33.220435,
          34.18102,
          36.115951,
          33.68544,
          30.16557,
          34.168473,
          33.739373,
          42.943983,
          40.599942,
          33.045524,
          33.75483,
          28.467784,
          33.921219,
          37.787031,
          36.695998,
          33.676822,
          31.787102,
          34.273601,
          32.781387,
          34.787799,
          47.66671,
          42.71509795,
          29.60487363,
          37.7411235,
          39.53555771,
          34.094086,
          42.865546,
          29.44742758,
          38.9798,
          39.42279793,
          41.160797,
          33.62386921,
          33.56399219,
          39.9782,
          28.05645858,
          44.94469579,
          40.85740366,
          41.43994,
          41.12614435,
          40.67703,
          33.98561,
          29.91725,
          45.46506766,
          39.96041,
          41.684531,
          34.0977173,
          42.662027,
          42.35168,
          41.693293,
          34.004447,
          42.95816839,
          39.960509,
          38.36390177,
          40.03231121,
          39.670606,
          41.2597,
          37.154252,
          33.75984732,
          44.88429,
          36.330383,
          38.810996,
          34.85581719,
          41.51030524,
          29.55166161,
          32.99051,
          39.73694867,
          38.32301762,
          32.54415,
          40.82048,
          39.71215533,
          30.31478,
          35.48628117,
          47.15059646
         ],
         "lon": [
          -92.1838,
          -121.8878,
          -97.085036,
          -110.822913,
          -78.761238,
          -115.11845,
          -74.00785,
          -92.02302,
          -118.383589,
          -77.638267,
          -74.01174,
          -91.533046,
          -84.776472,
          -90.1531,
          -73.973197,
          -73.910649,
          -76.20824,
          -98.532876,
          -76.929266,
          -81.20589,
          -111.803756,
          -116.973359,
          -87.365079,
          -122.207248,
          -73.918233,
          -92.757675,
          -82.388085,
          -84.470843,
          -84.872179,
          -74.013289,
          -80.132911,
          -122.628761,
          -117.193875,
          -73.83725,
          -118.104753,
          -85.52716,
          -79.936788,
          -84.231999,
          -88.08882,
          -84.919766,
          -84.466753,
          -77.612875,
          -119.186241,
          -83.194039,
          -73.690946,
          -73.968762,
          -79.814653,
          -117.114869,
          -73.983129,
          -75.982375,
          -85.567658,
          -78.500545,
          -82.697508,
          -81.508151,
          -117.441921,
          -95.299597,
          -79.959581,
          -124.06827,
          -117.347199,
          -105.939325,
          -86.055032,
          -118.626702,
          -90.4813,
          -75.9742,
          -84.410402,
          -95.417685,
          -75.224059,
          -75.636013,
          -93.708752,
          -79.9791,
          -96.616538,
          -78.9257,
          -79.92264,
          -79.5087,
          -122.8769,
          -93.273408,
          -73.952082,
          -122.293453,
          -95.418407,
          -112.27312,
          -84.54259,
          -118.00539,
          -118.488546,
          -80.805938,
          -122.291503,
          -97.797806,
          -81.678693,
          -95.406775,
          -118.5222,
          -81.7836,
          -118.0716,
          -83.064,
          -86.5377,
          -81.678813,
          -96.3353,
          -75.3527,
          -117.026954,
          -87.8359,
          -78.8665,
          -79.9233505,
          -83.7563,
          -81.74,
          -85.61576,
          -117.818884,
          -85.126237,
          -117.744221,
          -73.96639,
          -121.995843,
          -147.7024,
          -82.574907,
          -122.491104,
          -79.954839,
          -115.119434,
          -75.976115,
          -97.939917,
          -73.922714,
          -73.925081,
          -73.962822,
          -73.960159,
          -82.563664,
          -116.966542,
          -97.82944,
          -118.467013,
          -118.415554,
          -115.124244,
          -96.806166,
          -118.510685,
          -80.763185,
          -86.939213,
          -118.367578,
          -111.597641,
          -111.859094,
          -111.684866,
          -73.814621,
          -73.931586,
          -80.390947,
          -87.853794,
          -122.433821,
          -121.876751,
          -92.33765,
          -118.08536,
          -84.762901,
          -96.958238,
          -122.440415,
          -79.8442,
          -96.842623,
          -73.928618,
          -84.421051,
          -122.416545,
          -111.824894,
          -84.132585,
          -80.312684,
          -117.988848,
          -81.60236,
          -118.615919,
          -78.828178,
          -78.784346,
          -73.933833,
          -96.832258,
          -84.403227,
          -81.309804,
          -84.010071,
          -122.439986,
          -82.008617,
          -111.977316,
          -106.505886,
          -118.554922,
          -79.928452,
          -111.76352,
          -122.3134,
          -78.83096409,
          -98.27829212,
          -122.4225235,
          -105.0149,
          -117.669716,
          -85.86782,
          -98.49405706,
          -76.5238,
          -76.9965243,
          -73.86141,
          -83.97796314,
          -117.2037489,
          -86.12872,
          -82.62423635,
          -93.0951249,
          -73.88597841,
          -81.72634,
          -73.78538132,
          -73.97234,
          -84.17047,
          -81.29348,
          -122.8451883,
          -75.18906,
          -83.612192,
          -118.3286819,
          -73.776767,
          -83.06074,
          -86.300641,
          -83.914164,
          -78.859217,
          -75.18915,
          -81.64335251,
          -75.21398513,
          -104.941363,
          -95.98789,
          -93.276729,
          -118.0177975,
          -93.12089,
          -86.698296,
          -121.284735,
          -82.33362478,
          -90.5745357,
          -98.511925,
          -117.2606,
          -104.972624,
          -85.56573539,
          -94.34997,
          -73.93656,
          -86.12547398,
          -97.71514,
          -97.49983419,
          -122.2916359
         ],
         "marker": {
          "color": "red"
         },
         "mode": "markers",
         "text": [
          "Shotgun Dans Pizza :-AR",
          "Pizza Box :-CA",
          "Italy Pizza Pasta Subs :-TX",
          "Hungry Howies Pizza :-AZ",
          "Macys Place Pizzeria :-NY",
          "DeLucias Pizzeria :-NV",
          "Dona Bella Pizza :-NY",
          "Bisbano's Pizza Parlor :-LA",
          "zpizza :-CA",
          "A New York Slice :-VA",
          "Royal Kings Pizza :-NY",
          "Pizza On Dubuque :-IA",
          "Pisanellos Pizza :-MI",
          "Papa Vito's Pizza :-IL",
          "Famous Amadeus Pizza :-NY",
          "Carlos Pizza :-NY",
          "Rosarios Pronto Pizza Italian Restaurant :-PA",
          "Alamo Pizza :-TX",
          "Als Pizza Subs :-PA",
          "Goodfellas Pizza :-FL",
          "Moon Dogs Pizza :-AZ",
          "The Big Cheese Pizza Co :-CA",
          "Papa Johns Pizza :-IN",
          "The Rock Wood Fired Pizza :-WA",
          "Grand Avenue Pizza :-NY",
          "Dough Boys Pizza :-WI",
          "Leonardos Pizza :-FL",
          "Georgios Pizza :-MI",
          "Gabriels :-TN",
          "Kings Pizza :-NY",
          "Groovys Pizza :-FL",
          "Old Chicago Pizza :-CA",
          "Station Pizza Deli :-CA",
          "Francescas Pizza :-NY",
          "zpizza :-CA",
          "Jaspares Pizza Fine Italian Food :-MI",
          "Sabatinos NYC Pizza :-SC",
          "Carmelas Pizzeria Springboro :-OH",
          "Crossroads II :-WI",
          "Pizza King Decatur :-IN",
          "Buckhead Pizza Co :-GA",
          "Guys Pizza Co :-NY",
          "The Rock Wood Fired Pizza :-WA",
          "Buddys Pizzeria :-MI",
          "The Red Front :-NY",
          "Abitinos Pizzeria :-NY",
          "Brixx Wood Fired Pizza :-NC",
          "Giant Pizza King :-CA",
          "Tomato and Basil :-NY",
          "Beach Bella Pizza :-VA",
          "Chubby Rays Original Louisville Pizza Company :-KY",
          "Brixx Wood Fired Pizza :-VA",
          "Mama Mia Pizzeria :-FL",
          "Anthonys Pizza And Italian Restaurant :-FL",
          "Pacific Ave Pizza :-WA",
          "Spankys Pizza Bar :-TX",
          "Milanos Pizza :-NC",
          "Grand Central Pizza :-OR",
          "New York Pizzeria :-CA",
          "Rooftop Pizza :-NM",
          "Richards Brick Oven Pizza :-IN",
          "Topanga Pizza and Cafe :-CA",
          "Frankie Tocco's Pizzeria :-MO",
          "Original Mama's Pizza :-PA",
          "Guidos Premium Pizza :-MI",
          "Candelaris Pizzeria :-TX",
          "Petes Pizza :-PA",
          "Roccos Pizza Restaurant :-PA",
          "Chuck Celsis Tavern Restaurant :-IA",
          "Benny Fierros :-PA",
          "Mogios Gourmet Pizza :-TX",
          "Primo Pizza :-NC",
          "Gino Brothers Pizzeria :-PA",
          "Brixx Wood Fired Pizza :-NC",
          "The Rock Wood Fired Kitchen :-OR",
          "Mamas Bakery Pizza Salad Bar :-MN",
          "Casanova Family Italian Restaurant Pizzeria :-NY",
          "Trackside Pizza :-WA",
          "All Star Pizza :-TX",
          "Barros Pizza :-AZ",
          "Cassanos Pizza Subs :-OH",
          "Whatta Lotta Pizza :-CA",
          "Stella Barra :-CA",
          "Brixx Wood Fired Pizza :-NC",
          "Lombardos Pizzeria :-WA",
          "Nizza Pizza :-TX",
          "Pizza Pan :-OH",
          "Texas Pizza :-TX",
          "Numero Uno :-CA",
          "Vitos Pizzeria :-FL",
          "Z Pizza :-CA",
          "Buddy's Pizza :-MI",
          "Aver's Pizza North/campus :-IN",
          "DFontana :-FL",
          "DoubleDave's Pizza Works :-TX",
          "Swarthmore Pizza :-PA",
          "Coney Island Pizzeria :-CA",
          "Ferraro's Pizza :-WI",
          "Benny Sorrentino's :-VA",
          "Emilio's Famous Pizza :-VA",
          "Macon Pizza Company :-GA",
          "Naples Pizza :-FL",
          "Mancinos Pizza & Grinders :-MI",
          "Pizza Store :-CA",
          "Pizza Forum :-IN",
          "Porkys Pizza :-CA",
          "Mario's Pizzeria :-NY",
          "Giovanni's Pizzeria :-CA",
          "Papa John's Pizza :-AK",
          "Ferraros Pizza And Restaurant :-FL",
          "Papa Murphys :-CA",
          "Graziano's Pizzeria :-PA",
          "Round Table Pizza :-NV",
          "Pats Pizza :-PA",
          "Valentinos Pizza :-TX",
          "Salerno Pizza :-NY",
          "OMG Pizza :-NY",
          "Mariella Pizza :-NY",
          "Sutton Pizza and Gyro :-NY",
          "ABC Pizza :-FL",
          "Sbarro :-CA",
          "DoubleDave's Pizza Works :-TX",
          "Fresh Brothers :-CA",
          "Andiamo Pizzeria :-CA",
          "Angelina's Pizzeria :-NV",
          "Dante's Italian Eatery :-TX",
          "Lamppost Pizza :-CA",
          "Fat Baby's Pizza and Subs :-SC",
          "Pizza Perfect :-TN",
          "Jack's Pizza :-CA",
          "Barro's Pizza :-AZ",
          "Barro's Pizza :-AZ",
          "Barro's Pizza :-AZ",
          "Gino's Pizzeria :-NY",
          "One Stop Pizza :-NY",
          "Sir Pizza :-FL",
          "Giordano's :-IL",
          "Dino and Santino's Pizza :-CA",
          "Gay Nineties Pizza :-CA",
          "Shakespeare's Pizza :-MO",
          "Julio's Pizza :-CA",
          "Mancino's Italian Eatery :-MI",
          "Pie Five Pizza Co. :-TX",
          "Roma Pizzeria :-CA",
          "Domino's Pizza :-PA",
          "Pie Five Pizza Co :-TX",
          "Daddy Greens :-NY",
          "Brixx Wood Fired Pizza :-GA",
          "Round Table Pizza :-CA",
          "Barro's Pizza :-AZ",
          "Mia's Pizza and Eats :-GA",
          "Burke Street Pizza 2 :-NC",
          "Two Brother's Pizza :-CA",
          "Vino's Pizza :-FL",
          "Barones The Pizzeria Express :-CA",
          "New York Pizza And Deli :-SC",
          "Tony's Pizza :-NY",
          "Knapp St Pizza :-NY",
          "Joe's Pizza Pasta Subs :-TX",
          "Papa John's Pizza :-GA",
          "I Love NY Pizza :-FL",
          "Johnny's New York Style Pizza :-GA",
          "Presidio Pizza Company :-CA",
          "Moon Dog Brick Oven :-VA",
          "Slices Pizza :-AZ",
          "The Healthy Pizza Company :-TX",
          "zPizza :-CA",
          "Pizzeria Di Giovanni :-SC",
          "Famous Pizza :-AZ",
          "Pizza Ragazzi :-WA",
          "Butera's :-NY",
          "Goomba's Pizzeria :-TX",
          "Zante Pizza and Indian Cuisine :-CA",
          "Abo's Pizza :-CO",
          "Petrilli's Pizza :-CA",
          "DJ's Pizza Plus :-MI",
          "Main St. Pizza :-TX",
          "Dimeo's Pizzeria :-MD",
          "Amantes :-MD",
          "Lucy's Pizza :-NY",
          "Johnny's pizza :-GA",
          "Big Cheese :-CA",
          "Bazbeaux Pizza :-IN",
          "Marina's Pizza :-FL",
          "Aromas Pizza :-MN",
          "Tony & Tina's Pizza :-NY",
          "Dina's Pizza & Pub :-OH",
          "Sal's Pizza & Pasta :-NY",
          "Antonio's Pizzeria :-NY",
          "Murray's in a Hurry :-GA",
          "Puccini's Pizzeria :-FL",
          "Hart Road Pizza & Pub :-OR",
          "California Pizza :-PA",
          "Jo-Jo's Pizza :-OH",
          "Stella Barra Pizzeria :-CA",
          "D'Carlitos Pizza :-NY",
          "Passport Pizza - Midtown :-MI",
          "The Volcano :-IN",
          "Luigi's Pizza Restaurant Of Dacula :-GA",
          "Pepe's :-NY",
          "Village Pizza :-PA",
          "Mama Rosa's Pizzeria :-WV",
          "Zesto Pizza :-PA",
          "The Garlic Knot :-CO",
          "Roman Coin Pizza :-NE",
          "Wannagettapizza :-MO",
          "Dino's Pizza :-CA",
          "Tommy Chicago's Pizzeria :-MN",
          "Painturo's :-TN",
          "Via Roma :-CA",
          "Tony's Pizzeria :-SC",
          "Huckleberry's Pizza :-IL",
          "Chicago's Pizza :-TX",
          "Bongiorno's New York Pizzeria :-CA",
          "Nicolo's Chicago Style Pizza :-CO",
          "Johnny Brusco's New York Style Neighborhood Pizzeria :-KY",
          "Gucci's Pizza :-TX",
          "King's Pizza :-NY",
          "Bob's Tu Your Door Pizza :-IN",
          "East Side Pies :-TX",
          "Papa Dino's :-OK",
          "The Rock Wood Fired Kitchen :-WA"
         ],
         "type": "scattergeo"
        }
       ],
       "layout": {
        "geo": {
         "scope": "usa"
        },
        "template": {
         "data": {
          "bar": [
           {
            "error_x": {
             "color": "#2a3f5f"
            },
            "error_y": {
             "color": "#2a3f5f"
            },
            "marker": {
             "line": {
              "color": "#E5ECF6",
              "width": 0.5
             },
             "pattern": {
              "fillmode": "overlay",
              "size": 10,
              "solidity": 0.2
             }
            },
            "type": "bar"
           }
          ],
          "barpolar": [
           {
            "marker": {
             "line": {
              "color": "#E5ECF6",
              "width": 0.5
             },
             "pattern": {
              "fillmode": "overlay",
              "size": 10,
              "solidity": 0.2
             }
            },
            "type": "barpolar"
           }
          ],
          "carpet": [
           {
            "aaxis": {
             "endlinecolor": "#2a3f5f",
             "gridcolor": "white",
             "linecolor": "white",
             "minorgridcolor": "white",
             "startlinecolor": "#2a3f5f"
            },
            "baxis": {
             "endlinecolor": "#2a3f5f",
             "gridcolor": "white",
             "linecolor": "white",
             "minorgridcolor": "white",
             "startlinecolor": "#2a3f5f"
            },
            "type": "carpet"
           }
          ],
          "choropleth": [
           {
            "colorbar": {
             "outlinewidth": 0,
             "ticks": ""
            },
            "type": "choropleth"
           }
          ],
          "contour": [
           {
            "colorbar": {
             "outlinewidth": 0,
             "ticks": ""
            },
            "colorscale": [
             [
              0,
              "#0d0887"
             ],
             [
              0.1111111111111111,
              "#46039f"
             ],
             [
              0.2222222222222222,
              "#7201a8"
             ],
             [
              0.3333333333333333,
              "#9c179e"
             ],
             [
              0.4444444444444444,
              "#bd3786"
             ],
             [
              0.5555555555555556,
              "#d8576b"
             ],
             [
              0.6666666666666666,
              "#ed7953"
             ],
             [
              0.7777777777777778,
              "#fb9f3a"
             ],
             [
              0.8888888888888888,
              "#fdca26"
             ],
             [
              1,
              "#f0f921"
             ]
            ],
            "type": "contour"
           }
          ],
          "contourcarpet": [
           {
            "colorbar": {
             "outlinewidth": 0,
             "ticks": ""
            },
            "type": "contourcarpet"
           }
          ],
          "heatmap": [
           {
            "colorbar": {
             "outlinewidth": 0,
             "ticks": ""
            },
            "colorscale": [
             [
              0,
              "#0d0887"
             ],
             [
              0.1111111111111111,
              "#46039f"
             ],
             [
              0.2222222222222222,
              "#7201a8"
             ],
             [
              0.3333333333333333,
              "#9c179e"
             ],
             [
              0.4444444444444444,
              "#bd3786"
             ],
             [
              0.5555555555555556,
              "#d8576b"
             ],
             [
              0.6666666666666666,
              "#ed7953"
             ],
             [
              0.7777777777777778,
              "#fb9f3a"
             ],
             [
              0.8888888888888888,
              "#fdca26"
             ],
             [
              1,
              "#f0f921"
             ]
            ],
            "type": "heatmap"
           }
          ],
          "heatmapgl": [
           {
            "colorbar": {
             "outlinewidth": 0,
             "ticks": ""
            },
            "colorscale": [
             [
              0,
              "#0d0887"
             ],
             [
              0.1111111111111111,
              "#46039f"
             ],
             [
              0.2222222222222222,
              "#7201a8"
             ],
             [
              0.3333333333333333,
              "#9c179e"
             ],
             [
              0.4444444444444444,
              "#bd3786"
             ],
             [
              0.5555555555555556,
              "#d8576b"
             ],
             [
              0.6666666666666666,
              "#ed7953"
             ],
             [
              0.7777777777777778,
              "#fb9f3a"
             ],
             [
              0.8888888888888888,
              "#fdca26"
             ],
             [
              1,
              "#f0f921"
             ]
            ],
            "type": "heatmapgl"
           }
          ],
          "histogram": [
           {
            "marker": {
             "pattern": {
              "fillmode": "overlay",
              "size": 10,
              "solidity": 0.2
             }
            },
            "type": "histogram"
           }
          ],
          "histogram2d": [
           {
            "colorbar": {
             "outlinewidth": 0,
             "ticks": ""
            },
            "colorscale": [
             [
              0,
              "#0d0887"
             ],
             [
              0.1111111111111111,
              "#46039f"
             ],
             [
              0.2222222222222222,
              "#7201a8"
             ],
             [
              0.3333333333333333,
              "#9c179e"
             ],
             [
              0.4444444444444444,
              "#bd3786"
             ],
             [
              0.5555555555555556,
              "#d8576b"
             ],
             [
              0.6666666666666666,
              "#ed7953"
             ],
             [
              0.7777777777777778,
              "#fb9f3a"
             ],
             [
              0.8888888888888888,
              "#fdca26"
             ],
             [
              1,
              "#f0f921"
             ]
            ],
            "type": "histogram2d"
           }
          ],
          "histogram2dcontour": [
           {
            "colorbar": {
             "outlinewidth": 0,
             "ticks": ""
            },
            "colorscale": [
             [
              0,
              "#0d0887"
             ],
             [
              0.1111111111111111,
              "#46039f"
             ],
             [
              0.2222222222222222,
              "#7201a8"
             ],
             [
              0.3333333333333333,
              "#9c179e"
             ],
             [
              0.4444444444444444,
              "#bd3786"
             ],
             [
              0.5555555555555556,
              "#d8576b"
             ],
             [
              0.6666666666666666,
              "#ed7953"
             ],
             [
              0.7777777777777778,
              "#fb9f3a"
             ],
             [
              0.8888888888888888,
              "#fdca26"
             ],
             [
              1,
              "#f0f921"
             ]
            ],
            "type": "histogram2dcontour"
           }
          ],
          "mesh3d": [
           {
            "colorbar": {
             "outlinewidth": 0,
             "ticks": ""
            },
            "type": "mesh3d"
           }
          ],
          "parcoords": [
           {
            "line": {
             "colorbar": {
              "outlinewidth": 0,
              "ticks": ""
             }
            },
            "type": "parcoords"
           }
          ],
          "pie": [
           {
            "automargin": true,
            "type": "pie"
           }
          ],
          "scatter": [
           {
            "marker": {
             "colorbar": {
              "outlinewidth": 0,
              "ticks": ""
             }
            },
            "type": "scatter"
           }
          ],
          "scatter3d": [
           {
            "line": {
             "colorbar": {
              "outlinewidth": 0,
              "ticks": ""
             }
            },
            "marker": {
             "colorbar": {
              "outlinewidth": 0,
              "ticks": ""
             }
            },
            "type": "scatter3d"
           }
          ],
          "scattercarpet": [
           {
            "marker": {
             "colorbar": {
              "outlinewidth": 0,
              "ticks": ""
             }
            },
            "type": "scattercarpet"
           }
          ],
          "scattergeo": [
           {
            "marker": {
             "colorbar": {
              "outlinewidth": 0,
              "ticks": ""
             }
            },
            "type": "scattergeo"
           }
          ],
          "scattergl": [
           {
            "marker": {
             "colorbar": {
              "outlinewidth": 0,
              "ticks": ""
             }
            },
            "type": "scattergl"
           }
          ],
          "scattermapbox": [
           {
            "marker": {
             "colorbar": {
              "outlinewidth": 0,
              "ticks": ""
             }
            },
            "type": "scattermapbox"
           }
          ],
          "scatterpolar": [
           {
            "marker": {
             "colorbar": {
              "outlinewidth": 0,
              "ticks": ""
             }
            },
            "type": "scatterpolar"
           }
          ],
          "scatterpolargl": [
           {
            "marker": {
             "colorbar": {
              "outlinewidth": 0,
              "ticks": ""
             }
            },
            "type": "scatterpolargl"
           }
          ],
          "scatterternary": [
           {
            "marker": {
             "colorbar": {
              "outlinewidth": 0,
              "ticks": ""
             }
            },
            "type": "scatterternary"
           }
          ],
          "surface": [
           {
            "colorbar": {
             "outlinewidth": 0,
             "ticks": ""
            },
            "colorscale": [
             [
              0,
              "#0d0887"
             ],
             [
              0.1111111111111111,
              "#46039f"
             ],
             [
              0.2222222222222222,
              "#7201a8"
             ],
             [
              0.3333333333333333,
              "#9c179e"
             ],
             [
              0.4444444444444444,
              "#bd3786"
             ],
             [
              0.5555555555555556,
              "#d8576b"
             ],
             [
              0.6666666666666666,
              "#ed7953"
             ],
             [
              0.7777777777777778,
              "#fb9f3a"
             ],
             [
              0.8888888888888888,
              "#fdca26"
             ],
             [
              1,
              "#f0f921"
             ]
            ],
            "type": "surface"
           }
          ],
          "table": [
           {
            "cells": {
             "fill": {
              "color": "#EBF0F8"
             },
             "line": {
              "color": "white"
             }
            },
            "header": {
             "fill": {
              "color": "#C8D4E3"
             },
             "line": {
              "color": "white"
             }
            },
            "type": "table"
           }
          ]
         },
         "layout": {
          "annotationdefaults": {
           "arrowcolor": "#2a3f5f",
           "arrowhead": 0,
           "arrowwidth": 1
          },
          "autotypenumbers": "strict",
          "coloraxis": {
           "colorbar": {
            "outlinewidth": 0,
            "ticks": ""
           }
          },
          "colorscale": {
           "diverging": [
            [
             0,
             "#8e0152"
            ],
            [
             0.1,
             "#c51b7d"
            ],
            [
             0.2,
             "#de77ae"
            ],
            [
             0.3,
             "#f1b6da"
            ],
            [
             0.4,
             "#fde0ef"
            ],
            [
             0.5,
             "#f7f7f7"
            ],
            [
             0.6,
             "#e6f5d0"
            ],
            [
             0.7,
             "#b8e186"
            ],
            [
             0.8,
             "#7fbc41"
            ],
            [
             0.9,
             "#4d9221"
            ],
            [
             1,
             "#276419"
            ]
           ],
           "sequential": [
            [
             0,
             "#0d0887"
            ],
            [
             0.1111111111111111,
             "#46039f"
            ],
            [
             0.2222222222222222,
             "#7201a8"
            ],
            [
             0.3333333333333333,
             "#9c179e"
            ],
            [
             0.4444444444444444,
             "#bd3786"
            ],
            [
             0.5555555555555556,
             "#d8576b"
            ],
            [
             0.6666666666666666,
             "#ed7953"
            ],
            [
             0.7777777777777778,
             "#fb9f3a"
            ],
            [
             0.8888888888888888,
             "#fdca26"
            ],
            [
             1,
             "#f0f921"
            ]
           ],
           "sequentialminus": [
            [
             0,
             "#0d0887"
            ],
            [
             0.1111111111111111,
             "#46039f"
            ],
            [
             0.2222222222222222,
             "#7201a8"
            ],
            [
             0.3333333333333333,
             "#9c179e"
            ],
            [
             0.4444444444444444,
             "#bd3786"
            ],
            [
             0.5555555555555556,
             "#d8576b"
            ],
            [
             0.6666666666666666,
             "#ed7953"
            ],
            [
             0.7777777777777778,
             "#fb9f3a"
            ],
            [
             0.8888888888888888,
             "#fdca26"
            ],
            [
             1,
             "#f0f921"
            ]
           ]
          },
          "colorway": [
           "#636efa",
           "#EF553B",
           "#00cc96",
           "#ab63fa",
           "#FFA15A",
           "#19d3f3",
           "#FF6692",
           "#B6E880",
           "#FF97FF",
           "#FECB52"
          ],
          "font": {
           "color": "#2a3f5f"
          },
          "geo": {
           "bgcolor": "white",
           "lakecolor": "white",
           "landcolor": "#E5ECF6",
           "showlakes": true,
           "showland": true,
           "subunitcolor": "white"
          },
          "hoverlabel": {
           "align": "left"
          },
          "hovermode": "closest",
          "mapbox": {
           "style": "light"
          },
          "paper_bgcolor": "white",
          "plot_bgcolor": "#E5ECF6",
          "polar": {
           "angularaxis": {
            "gridcolor": "white",
            "linecolor": "white",
            "ticks": ""
           },
           "bgcolor": "#E5ECF6",
           "radialaxis": {
            "gridcolor": "white",
            "linecolor": "white",
            "ticks": ""
           }
          },
          "scene": {
           "xaxis": {
            "backgroundcolor": "#E5ECF6",
            "gridcolor": "white",
            "gridwidth": 2,
            "linecolor": "white",
            "showbackground": true,
            "ticks": "",
            "zerolinecolor": "white"
           },
           "yaxis": {
            "backgroundcolor": "#E5ECF6",
            "gridcolor": "white",
            "gridwidth": 2,
            "linecolor": "white",
            "showbackground": true,
            "ticks": "",
            "zerolinecolor": "white"
           },
           "zaxis": {
            "backgroundcolor": "#E5ECF6",
            "gridcolor": "white",
            "gridwidth": 2,
            "linecolor": "white",
            "showbackground": true,
            "ticks": "",
            "zerolinecolor": "white"
           }
          },
          "shapedefaults": {
           "line": {
            "color": "#2a3f5f"
           }
          },
          "ternary": {
           "aaxis": {
            "gridcolor": "white",
            "linecolor": "white",
            "ticks": ""
           },
           "baxis": {
            "gridcolor": "white",
            "linecolor": "white",
            "ticks": ""
           },
           "bgcolor": "#E5ECF6",
           "caxis": {
            "gridcolor": "white",
            "linecolor": "white",
            "ticks": ""
           }
          },
          "title": {
           "x": 0.05
          },
          "xaxis": {
           "automargin": true,
           "gridcolor": "white",
           "linecolor": "white",
           "ticks": "",
           "title": {
            "standoff": 15
           },
           "zerolinecolor": "white",
           "zerolinewidth": 2
          },
          "yaxis": {
           "automargin": true,
           "gridcolor": "white",
           "linecolor": "white",
           "ticks": "",
           "title": {
            "standoff": 15
           },
           "zerolinecolor": "white",
           "zerolinewidth": 2
          }
         }
        },
        "title": {
         "text": "Cheese Pizza"
        }
       }
      },
      "text/html": [
       "<div>                            <div id=\"6a0e0abf-e9e4-46ce-b7cb-1cecc38eb025\" class=\"plotly-graph-div\" style=\"height:525px; width:100%;\"></div>            <script type=\"text/javascript\">                require([\"plotly\"], function(Plotly) {                    window.PLOTLYENV=window.PLOTLYENV || {};                                    if (document.getElementById(\"6a0e0abf-e9e4-46ce-b7cb-1cecc38eb025\")) {                    Plotly.newPlot(                        \"6a0e0abf-e9e4-46ce-b7cb-1cecc38eb025\",                        [{\"lat\":[34.8323,37.4478,32.707464,32.223015,42.925755,36.274975,40.71499,30.213724,33.927667,37.501901,40.6437,41.660914,43.604819,38.3358,40.79013,40.704542,40.085942,29.385755,40.299281,28.568121,34.863223,33.72854,41.421409,47.814792,40.765323,44.975726,29.673127,42.731341,35.18558,41.924422,25.779851,38.250343,33.150886,41.327322,33.741276,42.320011,32.785633,39.556702,42.955455,40.831812,33.883979,43.059261,46.178327,42.526497,42.72616,40.754666,36.09164,32.755574,40.677378,36.844691,38.190252,38.051919,28.282668,28.706351,47.655404,29.694913,36.066575,44.424628,33.159453,35.6865,39.478095,34.164745,38.7808,40.3385,42.727718,29.770742,39.964745,40.050748,41.571417,40.4286,33.011399,35.0455,40.494767,36.0705,45.5369,44.975731,40.734057,47.192493,29.013555,33.70856,39.347395,33.715916,34.006721,35.034582,47.899993,32.747276,41.50112,29.734111,34.2652,30.1311,33.7815,42.419,39.1873,29.992076,30.6735,39.891769,32.95677,42.689,38.4482,37.2702722,32.8798,26.1539,42.1705,33.866934,41.117934,33.867874,40.686832,37.39696,64.8505,27.492279,37.651844,40.465784,36.059636,39.79387,29.882507,40.767368,40.698128,40.76915,40.761803,27.996336,32.804533,30.212961,34.052925,33.917359,35.996804,32.780666,34.443173,32.159378,36.063827,33.812763,33.3951,33.365251,33.435691,40.737123,40.757476,25.656882,41.629927,37.788934,37.65845,38.90672,33.873432,43.57533,32.896774,37.717244,40.4108,33.025489,40.680796,33.987059,37.627263,33.220435,34.18102,36.115951,33.68544,30.16557,34.168473,33.739373,42.943983,40.599942,33.045524,33.75483,28.467784,33.921219,37.787031,36.695998,33.676822,31.787102,34.273601,32.781387,34.787799,47.66671,42.71509795,29.60487363,37.7411235,39.53555771,34.094086,42.865546,29.44742758,38.9798,39.42279793,41.160797,33.62386921,33.56399219,39.9782,28.05645858,44.94469579,40.85740366,41.43994,41.12614435,40.67703,33.98561,29.91725,45.46506766,39.96041,41.684531,34.0977173,42.662027,42.35168,41.693293,34.004447,42.95816839,39.960509,38.36390177,40.03231121,39.670606,41.2597,37.154252,33.75984732,44.88429,36.330383,38.810996,34.85581719,41.51030524,29.55166161,32.99051,39.73694867,38.32301762,32.54415,40.82048,39.71215533,30.31478,35.48628117,47.15059646],\"lon\":[-92.1838,-121.8878,-97.085036,-110.822913,-78.761238,-115.11845,-74.00785,-92.02302,-118.383589,-77.638267,-74.01174,-91.533046,-84.776472,-90.1531,-73.973197,-73.910649,-76.20824,-98.532876,-76.929266,-81.20589,-111.803756,-116.973359,-87.365079,-122.207248,-73.918233,-92.757675,-82.388085,-84.470843,-84.872179,-74.013289,-80.132911,-122.628761,-117.193875,-73.83725,-118.104753,-85.52716,-79.936788,-84.231999,-88.08882,-84.919766,-84.466753,-77.612875,-119.186241,-83.194039,-73.690946,-73.968762,-79.814653,-117.114869,-73.983129,-75.982375,-85.567658,-78.500545,-82.697508,-81.508151,-117.441921,-95.299597,-79.959581,-124.06827,-117.347199,-105.939325,-86.055032,-118.626702,-90.4813,-75.9742,-84.410402,-95.417685,-75.224059,-75.636013,-93.708752,-79.9791,-96.616538,-78.9257,-79.92264,-79.5087,-122.8769,-93.273408,-73.952082,-122.293453,-95.418407,-112.27312,-84.54259,-118.00539,-118.488546,-80.805938,-122.291503,-97.797806,-81.678693,-95.406775,-118.5222,-81.7836,-118.0716,-83.064,-86.5377,-81.678813,-96.3353,-75.3527,-117.026954,-87.8359,-78.8665,-79.9233505,-83.7563,-81.74,-85.61576,-117.818884,-85.126237,-117.744221,-73.96639,-121.995843,-147.7024,-82.574907,-122.491104,-79.954839,-115.119434,-75.976115,-97.939917,-73.922714,-73.925081,-73.962822,-73.960159,-82.563664,-116.966542,-97.82944,-118.467013,-118.415554,-115.124244,-96.806166,-118.510685,-80.763185,-86.939213,-118.367578,-111.597641,-111.859094,-111.684866,-73.814621,-73.931586,-80.390947,-87.853794,-122.433821,-121.876751,-92.33765,-118.08536,-84.762901,-96.958238,-122.440415,-79.8442,-96.842623,-73.928618,-84.421051,-122.416545,-111.824894,-84.132585,-80.312684,-117.988848,-81.60236,-118.615919,-78.828178,-78.784346,-73.933833,-96.832258,-84.403227,-81.309804,-84.010071,-122.439986,-82.008617,-111.977316,-106.505886,-118.554922,-79.928452,-111.76352,-122.3134,-78.83096409,-98.27829212,-122.4225235,-105.0149,-117.669716,-85.86782,-98.49405706,-76.5238,-76.9965243,-73.86141,-83.97796314,-117.2037489,-86.12872,-82.62423635,-93.0951249,-73.88597841,-81.72634,-73.78538132,-73.97234,-84.17047,-81.29348,-122.8451883,-75.18906,-83.612192,-118.3286819,-73.776767,-83.06074,-86.300641,-83.914164,-78.859217,-75.18915,-81.64335251,-75.21398513,-104.941363,-95.98789,-93.276729,-118.0177975,-93.12089,-86.698296,-121.284735,-82.33362478,-90.5745357,-98.511925,-117.2606,-104.972624,-85.56573539,-94.34997,-73.93656,-86.12547398,-97.71514,-97.49983419,-122.2916359],\"marker\":{\"color\":\"red\"},\"mode\":\"markers\",\"text\":[\"Shotgun Dans Pizza :-AR\",\"Pizza Box :-CA\",\"Italy Pizza Pasta Subs :-TX\",\"Hungry Howies Pizza :-AZ\",\"Macys Place Pizzeria :-NY\",\"DeLucias Pizzeria :-NV\",\"Dona Bella Pizza :-NY\",\"Bisbano's Pizza Parlor :-LA\",\"zpizza :-CA\",\"A New York Slice :-VA\",\"Royal Kings Pizza :-NY\",\"Pizza On Dubuque :-IA\",\"Pisanellos Pizza :-MI\",\"Papa Vito's Pizza :-IL\",\"Famous Amadeus Pizza :-NY\",\"Carlos Pizza :-NY\",\"Rosarios Pronto Pizza Italian Restaurant :-PA\",\"Alamo Pizza :-TX\",\"Als Pizza Subs :-PA\",\"Goodfellas Pizza :-FL\",\"Moon Dogs Pizza :-AZ\",\"The Big Cheese Pizza Co :-CA\",\"Papa Johns Pizza :-IN\",\"The Rock Wood Fired Pizza :-WA\",\"Grand Avenue Pizza :-NY\",\"Dough Boys Pizza :-WI\",\"Leonardos Pizza :-FL\",\"Georgios Pizza :-MI\",\"Gabriels :-TN\",\"Kings Pizza :-NY\",\"Groovys Pizza :-FL\",\"Old Chicago Pizza :-CA\",\"Station Pizza Deli :-CA\",\"Francescas Pizza :-NY\",\"zpizza :-CA\",\"Jaspares Pizza Fine Italian Food :-MI\",\"Sabatinos NYC Pizza :-SC\",\"Carmelas Pizzeria Springboro :-OH\",\"Crossroads II :-WI\",\"Pizza King Decatur :-IN\",\"Buckhead Pizza Co :-GA\",\"Guys Pizza Co :-NY\",\"The Rock Wood Fired Pizza :-WA\",\"Buddys Pizzeria :-MI\",\"The Red Front :-NY\",\"Abitinos Pizzeria :-NY\",\"Brixx Wood Fired Pizza :-NC\",\"Giant Pizza King :-CA\",\"Tomato and Basil :-NY\",\"Beach Bella Pizza :-VA\",\"Chubby Rays Original Louisville Pizza Company :-KY\",\"Brixx Wood Fired Pizza :-VA\",\"Mama Mia Pizzeria :-FL\",\"Anthonys Pizza And Italian Restaurant :-FL\",\"Pacific Ave Pizza :-WA\",\"Spankys Pizza Bar :-TX\",\"Milanos Pizza :-NC\",\"Grand Central Pizza :-OR\",\"New York Pizzeria :-CA\",\"Rooftop Pizza :-NM\",\"Richards Brick Oven Pizza :-IN\",\"Topanga Pizza and Cafe :-CA\",\"Frankie Tocco's Pizzeria :-MO\",\"Original Mama's Pizza :-PA\",\"Guidos Premium Pizza :-MI\",\"Candelaris Pizzeria :-TX\",\"Petes Pizza :-PA\",\"Roccos Pizza Restaurant :-PA\",\"Chuck Celsis Tavern Restaurant :-IA\",\"Benny Fierros :-PA\",\"Mogios Gourmet Pizza :-TX\",\"Primo Pizza :-NC\",\"Gino Brothers Pizzeria :-PA\",\"Brixx Wood Fired Pizza :-NC\",\"The Rock Wood Fired Kitchen :-OR\",\"Mamas Bakery Pizza Salad Bar :-MN\",\"Casanova Family Italian Restaurant Pizzeria :-NY\",\"Trackside Pizza :-WA\",\"All Star Pizza :-TX\",\"Barros Pizza :-AZ\",\"Cassanos Pizza Subs :-OH\",\"Whatta Lotta Pizza :-CA\",\"Stella Barra :-CA\",\"Brixx Wood Fired Pizza :-NC\",\"Lombardos Pizzeria :-WA\",\"Nizza Pizza :-TX\",\"Pizza Pan :-OH\",\"Texas Pizza :-TX\",\"Numero Uno :-CA\",\"Vitos Pizzeria :-FL\",\"Z Pizza :-CA\",\"Buddy's Pizza :-MI\",\"Aver's Pizza North/campus :-IN\",\"DFontana :-FL\",\"DoubleDave's Pizza Works :-TX\",\"Swarthmore Pizza :-PA\",\"Coney Island Pizzeria :-CA\",\"Ferraro's Pizza :-WI\",\"Benny Sorrentino's :-VA\",\"Emilio's Famous Pizza :-VA\",\"Macon Pizza Company :-GA\",\"Naples Pizza :-FL\",\"Mancinos Pizza & Grinders :-MI\",\"Pizza Store :-CA\",\"Pizza Forum :-IN\",\"Porkys Pizza :-CA\",\"Mario's Pizzeria :-NY\",\"Giovanni's Pizzeria :-CA\",\"Papa John's Pizza :-AK\",\"Ferraros Pizza And Restaurant :-FL\",\"Papa Murphys :-CA\",\"Graziano's Pizzeria :-PA\",\"Round Table Pizza :-NV\",\"Pats Pizza :-PA\",\"Valentinos Pizza :-TX\",\"Salerno Pizza :-NY\",\"OMG Pizza :-NY\",\"Mariella Pizza :-NY\",\"Sutton Pizza and Gyro :-NY\",\"ABC Pizza :-FL\",\"Sbarro :-CA\",\"DoubleDave's Pizza Works :-TX\",\"Fresh Brothers :-CA\",\"Andiamo Pizzeria :-CA\",\"Angelina's Pizzeria :-NV\",\"Dante's Italian Eatery :-TX\",\"Lamppost Pizza :-CA\",\"Fat Baby's Pizza and Subs :-SC\",\"Pizza Perfect :-TN\",\"Jack's Pizza :-CA\",\"Barro's Pizza :-AZ\",\"Barro's Pizza :-AZ\",\"Barro's Pizza :-AZ\",\"Gino's Pizzeria :-NY\",\"One Stop Pizza :-NY\",\"Sir Pizza :-FL\",\"Giordano's :-IL\",\"Dino and Santino's Pizza :-CA\",\"Gay Nineties Pizza :-CA\",\"Shakespeare's Pizza :-MO\",\"Julio's Pizza :-CA\",\"Mancino's Italian Eatery :-MI\",\"Pie Five Pizza Co. :-TX\",\"Roma Pizzeria :-CA\",\"Domino's Pizza :-PA\",\"Pie Five Pizza Co :-TX\",\"Daddy Greens :-NY\",\"Brixx Wood Fired Pizza :-GA\",\"Round Table Pizza :-CA\",\"Barro's Pizza :-AZ\",\"Mia's Pizza and Eats :-GA\",\"Burke Street Pizza 2 :-NC\",\"Two Brother's Pizza :-CA\",\"Vino's Pizza :-FL\",\"Barones The Pizzeria Express :-CA\",\"New York Pizza And Deli :-SC\",\"Tony's Pizza :-NY\",\"Knapp St Pizza :-NY\",\"Joe's Pizza Pasta Subs :-TX\",\"Papa John's Pizza :-GA\",\"I Love NY Pizza :-FL\",\"Johnny's New York Style Pizza :-GA\",\"Presidio Pizza Company :-CA\",\"Moon Dog Brick Oven :-VA\",\"Slices Pizza :-AZ\",\"The Healthy Pizza Company :-TX\",\"zPizza :-CA\",\"Pizzeria Di Giovanni :-SC\",\"Famous Pizza :-AZ\",\"Pizza Ragazzi :-WA\",\"Butera's :-NY\",\"Goomba's Pizzeria :-TX\",\"Zante Pizza and Indian Cuisine :-CA\",\"Abo's Pizza :-CO\",\"Petrilli's Pizza :-CA\",\"DJ's Pizza Plus :-MI\",\"Main St. Pizza :-TX\",\"Dimeo's Pizzeria :-MD\",\"Amantes :-MD\",\"Lucy's Pizza :-NY\",\"Johnny's pizza :-GA\",\"Big Cheese :-CA\",\"Bazbeaux Pizza :-IN\",\"Marina's Pizza :-FL\",\"Aromas Pizza :-MN\",\"Tony & Tina's Pizza :-NY\",\"Dina's Pizza & Pub :-OH\",\"Sal's Pizza & Pasta :-NY\",\"Antonio's Pizzeria :-NY\",\"Murray's in a Hurry :-GA\",\"Puccini's Pizzeria :-FL\",\"Hart Road Pizza & Pub :-OR\",\"California Pizza :-PA\",\"Jo-Jo's Pizza :-OH\",\"Stella Barra Pizzeria :-CA\",\"D'Carlitos Pizza :-NY\",\"Passport Pizza - Midtown :-MI\",\"The Volcano :-IN\",\"Luigi's Pizza Restaurant Of Dacula :-GA\",\"Pepe's :-NY\",\"Village Pizza :-PA\",\"Mama Rosa's Pizzeria :-WV\",\"Zesto Pizza :-PA\",\"The Garlic Knot :-CO\",\"Roman Coin Pizza :-NE\",\"Wannagettapizza :-MO\",\"Dino's Pizza :-CA\",\"Tommy Chicago's Pizzeria :-MN\",\"Painturo's :-TN\",\"Via Roma :-CA\",\"Tony's Pizzeria :-SC\",\"Huckleberry's Pizza :-IL\",\"Chicago's Pizza :-TX\",\"Bongiorno's New York Pizzeria :-CA\",\"Nicolo's Chicago Style Pizza :-CO\",\"Johnny Brusco's New York Style Neighborhood Pizzeria :-KY\",\"Gucci's Pizza :-TX\",\"King's Pizza :-NY\",\"Bob's Tu Your Door Pizza :-IN\",\"East Side Pies :-TX\",\"Papa Dino's :-OK\",\"The Rock Wood Fired Kitchen :-WA\"],\"type\":\"scattergeo\"}],                        {\"template\":{\"data\":{\"bar\":[{\"error_x\":{\"color\":\"#2a3f5f\"},\"error_y\":{\"color\":\"#2a3f5f\"},\"marker\":{\"line\":{\"color\":\"#E5ECF6\",\"width\":0.5},\"pattern\":{\"fillmode\":\"overlay\",\"size\":10,\"solidity\":0.2}},\"type\":\"bar\"}],\"barpolar\":[{\"marker\":{\"line\":{\"color\":\"#E5ECF6\",\"width\":0.5},\"pattern\":{\"fillmode\":\"overlay\",\"size\":10,\"solidity\":0.2}},\"type\":\"barpolar\"}],\"carpet\":[{\"aaxis\":{\"endlinecolor\":\"#2a3f5f\",\"gridcolor\":\"white\",\"linecolor\":\"white\",\"minorgridcolor\":\"white\",\"startlinecolor\":\"#2a3f5f\"},\"baxis\":{\"endlinecolor\":\"#2a3f5f\",\"gridcolor\":\"white\",\"linecolor\":\"white\",\"minorgridcolor\":\"white\",\"startlinecolor\":\"#2a3f5f\"},\"type\":\"carpet\"}],\"choropleth\":[{\"colorbar\":{\"outlinewidth\":0,\"ticks\":\"\"},\"type\":\"choropleth\"}],\"contour\":[{\"colorbar\":{\"outlinewidth\":0,\"ticks\":\"\"},\"colorscale\":[[0.0,\"#0d0887\"],[0.1111111111111111,\"#46039f\"],[0.2222222222222222,\"#7201a8\"],[0.3333333333333333,\"#9c179e\"],[0.4444444444444444,\"#bd3786\"],[0.5555555555555556,\"#d8576b\"],[0.6666666666666666,\"#ed7953\"],[0.7777777777777778,\"#fb9f3a\"],[0.8888888888888888,\"#fdca26\"],[1.0,\"#f0f921\"]],\"type\":\"contour\"}],\"contourcarpet\":[{\"colorbar\":{\"outlinewidth\":0,\"ticks\":\"\"},\"type\":\"contourcarpet\"}],\"heatmap\":[{\"colorbar\":{\"outlinewidth\":0,\"ticks\":\"\"},\"colorscale\":[[0.0,\"#0d0887\"],[0.1111111111111111,\"#46039f\"],[0.2222222222222222,\"#7201a8\"],[0.3333333333333333,\"#9c179e\"],[0.4444444444444444,\"#bd3786\"],[0.5555555555555556,\"#d8576b\"],[0.6666666666666666,\"#ed7953\"],[0.7777777777777778,\"#fb9f3a\"],[0.8888888888888888,\"#fdca26\"],[1.0,\"#f0f921\"]],\"type\":\"heatmap\"}],\"heatmapgl\":[{\"colorbar\":{\"outlinewidth\":0,\"ticks\":\"\"},\"colorscale\":[[0.0,\"#0d0887\"],[0.1111111111111111,\"#46039f\"],[0.2222222222222222,\"#7201a8\"],[0.3333333333333333,\"#9c179e\"],[0.4444444444444444,\"#bd3786\"],[0.5555555555555556,\"#d8576b\"],[0.6666666666666666,\"#ed7953\"],[0.7777777777777778,\"#fb9f3a\"],[0.8888888888888888,\"#fdca26\"],[1.0,\"#f0f921\"]],\"type\":\"heatmapgl\"}],\"histogram\":[{\"marker\":{\"pattern\":{\"fillmode\":\"overlay\",\"size\":10,\"solidity\":0.2}},\"type\":\"histogram\"}],\"histogram2d\":[{\"colorbar\":{\"outlinewidth\":0,\"ticks\":\"\"},\"colorscale\":[[0.0,\"#0d0887\"],[0.1111111111111111,\"#46039f\"],[0.2222222222222222,\"#7201a8\"],[0.3333333333333333,\"#9c179e\"],[0.4444444444444444,\"#bd3786\"],[0.5555555555555556,\"#d8576b\"],[0.6666666666666666,\"#ed7953\"],[0.7777777777777778,\"#fb9f3a\"],[0.8888888888888888,\"#fdca26\"],[1.0,\"#f0f921\"]],\"type\":\"histogram2d\"}],\"histogram2dcontour\":[{\"colorbar\":{\"outlinewidth\":0,\"ticks\":\"\"},\"colorscale\":[[0.0,\"#0d0887\"],[0.1111111111111111,\"#46039f\"],[0.2222222222222222,\"#7201a8\"],[0.3333333333333333,\"#9c179e\"],[0.4444444444444444,\"#bd3786\"],[0.5555555555555556,\"#d8576b\"],[0.6666666666666666,\"#ed7953\"],[0.7777777777777778,\"#fb9f3a\"],[0.8888888888888888,\"#fdca26\"],[1.0,\"#f0f921\"]],\"type\":\"histogram2dcontour\"}],\"mesh3d\":[{\"colorbar\":{\"outlinewidth\":0,\"ticks\":\"\"},\"type\":\"mesh3d\"}],\"parcoords\":[{\"line\":{\"colorbar\":{\"outlinewidth\":0,\"ticks\":\"\"}},\"type\":\"parcoords\"}],\"pie\":[{\"automargin\":true,\"type\":\"pie\"}],\"scatter\":[{\"marker\":{\"colorbar\":{\"outlinewidth\":0,\"ticks\":\"\"}},\"type\":\"scatter\"}],\"scatter3d\":[{\"line\":{\"colorbar\":{\"outlinewidth\":0,\"ticks\":\"\"}},\"marker\":{\"colorbar\":{\"outlinewidth\":0,\"ticks\":\"\"}},\"type\":\"scatter3d\"}],\"scattercarpet\":[{\"marker\":{\"colorbar\":{\"outlinewidth\":0,\"ticks\":\"\"}},\"type\":\"scattercarpet\"}],\"scattergeo\":[{\"marker\":{\"colorbar\":{\"outlinewidth\":0,\"ticks\":\"\"}},\"type\":\"scattergeo\"}],\"scattergl\":[{\"marker\":{\"colorbar\":{\"outlinewidth\":0,\"ticks\":\"\"}},\"type\":\"scattergl\"}],\"scattermapbox\":[{\"marker\":{\"colorbar\":{\"outlinewidth\":0,\"ticks\":\"\"}},\"type\":\"scattermapbox\"}],\"scatterpolar\":[{\"marker\":{\"colorbar\":{\"outlinewidth\":0,\"ticks\":\"\"}},\"type\":\"scatterpolar\"}],\"scatterpolargl\":[{\"marker\":{\"colorbar\":{\"outlinewidth\":0,\"ticks\":\"\"}},\"type\":\"scatterpolargl\"}],\"scatterternary\":[{\"marker\":{\"colorbar\":{\"outlinewidth\":0,\"ticks\":\"\"}},\"type\":\"scatterternary\"}],\"surface\":[{\"colorbar\":{\"outlinewidth\":0,\"ticks\":\"\"},\"colorscale\":[[0.0,\"#0d0887\"],[0.1111111111111111,\"#46039f\"],[0.2222222222222222,\"#7201a8\"],[0.3333333333333333,\"#9c179e\"],[0.4444444444444444,\"#bd3786\"],[0.5555555555555556,\"#d8576b\"],[0.6666666666666666,\"#ed7953\"],[0.7777777777777778,\"#fb9f3a\"],[0.8888888888888888,\"#fdca26\"],[1.0,\"#f0f921\"]],\"type\":\"surface\"}],\"table\":[{\"cells\":{\"fill\":{\"color\":\"#EBF0F8\"},\"line\":{\"color\":\"white\"}},\"header\":{\"fill\":{\"color\":\"#C8D4E3\"},\"line\":{\"color\":\"white\"}},\"type\":\"table\"}]},\"layout\":{\"annotationdefaults\":{\"arrowcolor\":\"#2a3f5f\",\"arrowhead\":0,\"arrowwidth\":1},\"autotypenumbers\":\"strict\",\"coloraxis\":{\"colorbar\":{\"outlinewidth\":0,\"ticks\":\"\"}},\"colorscale\":{\"diverging\":[[0,\"#8e0152\"],[0.1,\"#c51b7d\"],[0.2,\"#de77ae\"],[0.3,\"#f1b6da\"],[0.4,\"#fde0ef\"],[0.5,\"#f7f7f7\"],[0.6,\"#e6f5d0\"],[0.7,\"#b8e186\"],[0.8,\"#7fbc41\"],[0.9,\"#4d9221\"],[1,\"#276419\"]],\"sequential\":[[0.0,\"#0d0887\"],[0.1111111111111111,\"#46039f\"],[0.2222222222222222,\"#7201a8\"],[0.3333333333333333,\"#9c179e\"],[0.4444444444444444,\"#bd3786\"],[0.5555555555555556,\"#d8576b\"],[0.6666666666666666,\"#ed7953\"],[0.7777777777777778,\"#fb9f3a\"],[0.8888888888888888,\"#fdca26\"],[1.0,\"#f0f921\"]],\"sequentialminus\":[[0.0,\"#0d0887\"],[0.1111111111111111,\"#46039f\"],[0.2222222222222222,\"#7201a8\"],[0.3333333333333333,\"#9c179e\"],[0.4444444444444444,\"#bd3786\"],[0.5555555555555556,\"#d8576b\"],[0.6666666666666666,\"#ed7953\"],[0.7777777777777778,\"#fb9f3a\"],[0.8888888888888888,\"#fdca26\"],[1.0,\"#f0f921\"]]},\"colorway\":[\"#636efa\",\"#EF553B\",\"#00cc96\",\"#ab63fa\",\"#FFA15A\",\"#19d3f3\",\"#FF6692\",\"#B6E880\",\"#FF97FF\",\"#FECB52\"],\"font\":{\"color\":\"#2a3f5f\"},\"geo\":{\"bgcolor\":\"white\",\"lakecolor\":\"white\",\"landcolor\":\"#E5ECF6\",\"showlakes\":true,\"showland\":true,\"subunitcolor\":\"white\"},\"hoverlabel\":{\"align\":\"left\"},\"hovermode\":\"closest\",\"mapbox\":{\"style\":\"light\"},\"paper_bgcolor\":\"white\",\"plot_bgcolor\":\"#E5ECF6\",\"polar\":{\"angularaxis\":{\"gridcolor\":\"white\",\"linecolor\":\"white\",\"ticks\":\"\"},\"bgcolor\":\"#E5ECF6\",\"radialaxis\":{\"gridcolor\":\"white\",\"linecolor\":\"white\",\"ticks\":\"\"}},\"scene\":{\"xaxis\":{\"backgroundcolor\":\"#E5ECF6\",\"gridcolor\":\"white\",\"gridwidth\":2,\"linecolor\":\"white\",\"showbackground\":true,\"ticks\":\"\",\"zerolinecolor\":\"white\"},\"yaxis\":{\"backgroundcolor\":\"#E5ECF6\",\"gridcolor\":\"white\",\"gridwidth\":2,\"linecolor\":\"white\",\"showbackground\":true,\"ticks\":\"\",\"zerolinecolor\":\"white\"},\"zaxis\":{\"backgroundcolor\":\"#E5ECF6\",\"gridcolor\":\"white\",\"gridwidth\":2,\"linecolor\":\"white\",\"showbackground\":true,\"ticks\":\"\",\"zerolinecolor\":\"white\"}},\"shapedefaults\":{\"line\":{\"color\":\"#2a3f5f\"}},\"ternary\":{\"aaxis\":{\"gridcolor\":\"white\",\"linecolor\":\"white\",\"ticks\":\"\"},\"baxis\":{\"gridcolor\":\"white\",\"linecolor\":\"white\",\"ticks\":\"\"},\"bgcolor\":\"#E5ECF6\",\"caxis\":{\"gridcolor\":\"white\",\"linecolor\":\"white\",\"ticks\":\"\"}},\"title\":{\"x\":0.05},\"xaxis\":{\"automargin\":true,\"gridcolor\":\"white\",\"linecolor\":\"white\",\"ticks\":\"\",\"title\":{\"standoff\":15},\"zerolinecolor\":\"white\",\"zerolinewidth\":2},\"yaxis\":{\"automargin\":true,\"gridcolor\":\"white\",\"linecolor\":\"white\",\"ticks\":\"\",\"title\":{\"standoff\":15},\"zerolinecolor\":\"white\",\"zerolinewidth\":2}}},\"geo\":{\"scope\":\"usa\"},\"title\":{\"text\":\"Cheese Pizza\"}},                        {\"responsive\": true}                    ).then(function(){\n",
       "                            \n",
       "var gd = document.getElementById('6a0e0abf-e9e4-46ce-b7cb-1cecc38eb025');\n",
       "var x = new MutationObserver(function (mutations, observer) {{\n",
       "        var display = window.getComputedStyle(gd).display;\n",
       "        if (!display || display === 'none') {{\n",
       "            console.log([gd, 'removed!']);\n",
       "            Plotly.purge(gd);\n",
       "            observer.disconnect();\n",
       "        }}\n",
       "}});\n",
       "\n",
       "// Listen for the removal of the full notebook cells\n",
       "var notebookContainer = gd.closest('#notebook-container');\n",
       "if (notebookContainer) {{\n",
       "    x.observe(notebookContainer, {childList: true});\n",
       "}}\n",
       "\n",
       "// Listen for the clearing of the current output cell\n",
       "var outputEl = gd.closest('.output');\n",
       "if (outputEl) {{\n",
       "    x.observe(outputEl, {childList: true});\n",
       "}}\n",
       "\n",
       "                        })                };                });            </script>        </div>"
      ]
     },
     "metadata": {},
     "output_type": "display_data"
    }
   ],
   "source": [
    "#Question 6:\n",
    "'''\n",
    "where can i find cheese pizza: \n",
    "'''\n",
    "chesse_pizza_df =  pizzaria_df[pizzaria_df['menus.name'] == 'Cheese Pizza']\n",
    "chesse_pizza_df.drop_duplicates('id',inplace = True)\n",
    "chesse_pizza_df.shape\n",
    "fig = go.Figure(data=go.Scattergeo(\n",
    "        lon = chesse_pizza_df['longitude'],\n",
    "        lat = chesse_pizza_df['latitude'],\n",
    "        text = chesse_pizza_df['name'] + ' :-' + chesse_pizza_df['province'],\n",
    "        mode = 'markers',\n",
    "        \n",
    "    \n",
    "        marker_color = 'red',\n",
    "        ))\n",
    "\n",
    "fig.update_layout(\n",
    "        title = 'Cheese Pizza',\n",
    "        geo_scope='usa',\n",
    "    )\n",
    "fig.show()\n",
    "\n"
   ]
  },
  {
   "cell_type": "code",
   "execution_count": 35,
   "id": "de047099",
   "metadata": {},
   "outputs": [
    {
     "data": {
      "text/html": [
       "<div>\n",
       "<style scoped>\n",
       "    .dataframe tbody tr th:only-of-type {\n",
       "        vertical-align: middle;\n",
       "    }\n",
       "\n",
       "    .dataframe tbody tr th {\n",
       "        vertical-align: top;\n",
       "    }\n",
       "\n",
       "    .dataframe thead th {\n",
       "        text-align: right;\n",
       "    }\n",
       "</style>\n",
       "<table border=\"1\" class=\"dataframe\">\n",
       "  <thead>\n",
       "    <tr style=\"text-align: right;\">\n",
       "      <th></th>\n",
       "      <th>city</th>\n",
       "      <th>name</th>\n",
       "      <th>menus.name</th>\n",
       "      <th>maximum value</th>\n",
       "      <th>longitude</th>\n",
       "      <th>latitude</th>\n",
       "    </tr>\n",
       "  </thead>\n",
       "  <tbody>\n",
       "    <tr>\n",
       "      <th>1</th>\n",
       "      <td>Los Angeles</td>\n",
       "      <td>California Pizza Kitchen</td>\n",
       "      <td>Vegetarian Large Pizza Catering Package</td>\n",
       "      <td>243.0</td>\n",
       "      <td>-118.34040</td>\n",
       "      <td>34.102000</td>\n",
       "    </tr>\n",
       "    <tr>\n",
       "      <th>2</th>\n",
       "      <td>Los Angeles</td>\n",
       "      <td>California Pizza Kitchen</td>\n",
       "      <td>Adventurous Large Pizza Catering Package</td>\n",
       "      <td>243.0</td>\n",
       "      <td>-118.34040</td>\n",
       "      <td>34.102000</td>\n",
       "    </tr>\n",
       "    <tr>\n",
       "      <th>3</th>\n",
       "      <td>Los Angeles</td>\n",
       "      <td>California Pizza Kitchen</td>\n",
       "      <td>CPK Classics Large Pizza Catering Package</td>\n",
       "      <td>243.0</td>\n",
       "      <td>-118.34040</td>\n",
       "      <td>34.102000</td>\n",
       "    </tr>\n",
       "    <tr>\n",
       "      <th>4</th>\n",
       "      <td>Los Angeles</td>\n",
       "      <td>California Pizza Kitchen</td>\n",
       "      <td>Vegetarian Large Pizza Catering Package</td>\n",
       "      <td>243.0</td>\n",
       "      <td>-118.46511</td>\n",
       "      <td>34.054118</td>\n",
       "    </tr>\n",
       "    <tr>\n",
       "      <th>5</th>\n",
       "      <td>Los Angeles</td>\n",
       "      <td>California Pizza Kitchen</td>\n",
       "      <td>Adventurous Large Pizza Catering Package</td>\n",
       "      <td>243.0</td>\n",
       "      <td>-118.46511</td>\n",
       "      <td>34.054118</td>\n",
       "    </tr>\n",
       "  </tbody>\n",
       "</table>\n",
       "</div>"
      ],
      "text/plain": [
       "          city                      name  \\\n",
       "1  Los Angeles  California Pizza Kitchen   \n",
       "2  Los Angeles  California Pizza Kitchen   \n",
       "3  Los Angeles  California Pizza Kitchen   \n",
       "4  Los Angeles  California Pizza Kitchen   \n",
       "5  Los Angeles  California Pizza Kitchen   \n",
       "\n",
       "                                  menus.name  maximum value  longitude  \\\n",
       "1    Vegetarian Large Pizza Catering Package          243.0 -118.34040   \n",
       "2   Adventurous Large Pizza Catering Package          243.0 -118.34040   \n",
       "3  CPK Classics Large Pizza Catering Package          243.0 -118.34040   \n",
       "4    Vegetarian Large Pizza Catering Package          243.0 -118.46511   \n",
       "5   Adventurous Large Pizza Catering Package          243.0 -118.46511   \n",
       "\n",
       "    latitude  \n",
       "1  34.102000  \n",
       "2  34.102000  \n",
       "3  34.102000  \n",
       "4  34.054118  \n",
       "5  34.054118  "
      ]
     },
     "metadata": {},
     "output_type": "display_data"
    },
    {
     "name": "stdout",
     "output_type": "stream",
     "text": [
      "========================================================================================================================\n"
     ]
    },
    {
     "data": {
      "text/html": [
       "<div>\n",
       "<style scoped>\n",
       "    .dataframe tbody tr th:only-of-type {\n",
       "        vertical-align: middle;\n",
       "    }\n",
       "\n",
       "    .dataframe tbody tr th {\n",
       "        vertical-align: top;\n",
       "    }\n",
       "\n",
       "    .dataframe thead th {\n",
       "        text-align: right;\n",
       "    }\n",
       "</style>\n",
       "<table border=\"1\" class=\"dataframe\">\n",
       "  <thead>\n",
       "    <tr style=\"text-align: right;\">\n",
       "      <th></th>\n",
       "      <th>city</th>\n",
       "      <th>name</th>\n",
       "      <th>menus.name</th>\n",
       "      <th>minimum value</th>\n",
       "      <th>longitude</th>\n",
       "      <th>latitude</th>\n",
       "    </tr>\n",
       "  </thead>\n",
       "  <tbody>\n",
       "    <tr>\n",
       "      <th>1</th>\n",
       "      <td>West Chester</td>\n",
       "      <td>Fratellis Pizzeria</td>\n",
       "      <td>Pizza By the Slice</td>\n",
       "      <td>0.25</td>\n",
       "      <td>-84.395632</td>\n",
       "      <td>39.357537</td>\n",
       "    </tr>\n",
       "    <tr>\n",
       "      <th>2</th>\n",
       "      <td>Cadiz</td>\n",
       "      <td>DiAngelos</td>\n",
       "      <td>6\" Pizza Sub</td>\n",
       "      <td>0.25</td>\n",
       "      <td>-80.996825</td>\n",
       "      <td>40.272624</td>\n",
       "    </tr>\n",
       "    <tr>\n",
       "      <th>3</th>\n",
       "      <td>Cadiz</td>\n",
       "      <td>DiAngelos</td>\n",
       "      <td>French Bread Pizza</td>\n",
       "      <td>0.25</td>\n",
       "      <td>-80.996825</td>\n",
       "      <td>40.272624</td>\n",
       "    </tr>\n",
       "    <tr>\n",
       "      <th>4</th>\n",
       "      <td>Seattle</td>\n",
       "      <td>Stacia's Gourmet Pizza and Pasta</td>\n",
       "      <td>Garlic Herb Pizza Crust</td>\n",
       "      <td>0.25</td>\n",
       "      <td>-122.361060</td>\n",
       "      <td>47.690630</td>\n",
       "    </tr>\n",
       "  </tbody>\n",
       "</table>\n",
       "</div>"
      ],
      "text/plain": [
       "           city                              name               menus.name  \\\n",
       "1  West Chester                Fratellis Pizzeria       Pizza By the Slice   \n",
       "2         Cadiz                         DiAngelos             6\" Pizza Sub   \n",
       "3         Cadiz                         DiAngelos       French Bread Pizza   \n",
       "4       Seattle  Stacia's Gourmet Pizza and Pasta  Garlic Herb Pizza Crust   \n",
       "\n",
       "   minimum value   longitude   latitude  \n",
       "1           0.25  -84.395632  39.357537  \n",
       "2           0.25  -80.996825  40.272624  \n",
       "3           0.25  -80.996825  40.272624  \n",
       "4           0.25 -122.361060  47.690630  "
      ]
     },
     "metadata": {},
     "output_type": "display_data"
    },
    {
     "name": "stdout",
     "output_type": "stream",
     "text": [
      "========================================================================================================================\n"
     ]
    },
    {
     "data": {
      "text/html": [
       "<div>\n",
       "<style scoped>\n",
       "    .dataframe tbody tr th:only-of-type {\n",
       "        vertical-align: middle;\n",
       "    }\n",
       "\n",
       "    .dataframe tbody tr th {\n",
       "        vertical-align: top;\n",
       "    }\n",
       "\n",
       "    .dataframe thead th {\n",
       "        text-align: right;\n",
       "    }\n",
       "</style>\n",
       "<table border=\"1\" class=\"dataframe\">\n",
       "  <thead>\n",
       "    <tr style=\"text-align: right;\">\n",
       "      <th></th>\n",
       "      <th>city</th>\n",
       "      <th>name</th>\n",
       "      <th>menus.name</th>\n",
       "      <th>maximum value</th>\n",
       "      <th>longitude</th>\n",
       "      <th>latitude</th>\n",
       "      <th>minimum value</th>\n",
       "    </tr>\n",
       "  </thead>\n",
       "  <tbody>\n",
       "    <tr>\n",
       "      <th>1</th>\n",
       "      <td>Los Angeles</td>\n",
       "      <td>California Pizza Kitchen</td>\n",
       "      <td>Vegetarian Large Pizza Catering Package</td>\n",
       "      <td>243.0</td>\n",
       "      <td>-118.340400</td>\n",
       "      <td>34.102000</td>\n",
       "      <td>NaN</td>\n",
       "    </tr>\n",
       "    <tr>\n",
       "      <th>2</th>\n",
       "      <td>Los Angeles</td>\n",
       "      <td>California Pizza Kitchen</td>\n",
       "      <td>Adventurous Large Pizza Catering Package</td>\n",
       "      <td>243.0</td>\n",
       "      <td>-118.340400</td>\n",
       "      <td>34.102000</td>\n",
       "      <td>NaN</td>\n",
       "    </tr>\n",
       "    <tr>\n",
       "      <th>3</th>\n",
       "      <td>Los Angeles</td>\n",
       "      <td>California Pizza Kitchen</td>\n",
       "      <td>CPK Classics Large Pizza Catering Package</td>\n",
       "      <td>243.0</td>\n",
       "      <td>-118.340400</td>\n",
       "      <td>34.102000</td>\n",
       "      <td>NaN</td>\n",
       "    </tr>\n",
       "    <tr>\n",
       "      <th>4</th>\n",
       "      <td>Los Angeles</td>\n",
       "      <td>California Pizza Kitchen</td>\n",
       "      <td>Vegetarian Large Pizza Catering Package</td>\n",
       "      <td>243.0</td>\n",
       "      <td>-118.465110</td>\n",
       "      <td>34.054118</td>\n",
       "      <td>NaN</td>\n",
       "    </tr>\n",
       "    <tr>\n",
       "      <th>5</th>\n",
       "      <td>Los Angeles</td>\n",
       "      <td>California Pizza Kitchen</td>\n",
       "      <td>Adventurous Large Pizza Catering Package</td>\n",
       "      <td>243.0</td>\n",
       "      <td>-118.465110</td>\n",
       "      <td>34.054118</td>\n",
       "      <td>NaN</td>\n",
       "    </tr>\n",
       "    <tr>\n",
       "      <th>6</th>\n",
       "      <td>West Chester</td>\n",
       "      <td>Fratellis Pizzeria</td>\n",
       "      <td>Pizza By the Slice</td>\n",
       "      <td>NaN</td>\n",
       "      <td>-84.395632</td>\n",
       "      <td>39.357537</td>\n",
       "      <td>0.25</td>\n",
       "    </tr>\n",
       "    <tr>\n",
       "      <th>7</th>\n",
       "      <td>Cadiz</td>\n",
       "      <td>DiAngelos</td>\n",
       "      <td>6\" Pizza Sub</td>\n",
       "      <td>NaN</td>\n",
       "      <td>-80.996825</td>\n",
       "      <td>40.272624</td>\n",
       "      <td>0.25</td>\n",
       "    </tr>\n",
       "    <tr>\n",
       "      <th>8</th>\n",
       "      <td>Cadiz</td>\n",
       "      <td>DiAngelos</td>\n",
       "      <td>French Bread Pizza</td>\n",
       "      <td>NaN</td>\n",
       "      <td>-80.996825</td>\n",
       "      <td>40.272624</td>\n",
       "      <td>0.25</td>\n",
       "    </tr>\n",
       "    <tr>\n",
       "      <th>9</th>\n",
       "      <td>Seattle</td>\n",
       "      <td>Stacia's Gourmet Pizza and Pasta</td>\n",
       "      <td>Garlic Herb Pizza Crust</td>\n",
       "      <td>NaN</td>\n",
       "      <td>-122.361060</td>\n",
       "      <td>47.690630</td>\n",
       "      <td>0.25</td>\n",
       "    </tr>\n",
       "  </tbody>\n",
       "</table>\n",
       "</div>"
      ],
      "text/plain": [
       "           city                              name  \\\n",
       "1   Los Angeles          California Pizza Kitchen   \n",
       "2   Los Angeles          California Pizza Kitchen   \n",
       "3   Los Angeles          California Pizza Kitchen   \n",
       "4   Los Angeles          California Pizza Kitchen   \n",
       "5   Los Angeles          California Pizza Kitchen   \n",
       "6  West Chester                Fratellis Pizzeria   \n",
       "7         Cadiz                         DiAngelos   \n",
       "8         Cadiz                         DiAngelos   \n",
       "9       Seattle  Stacia's Gourmet Pizza and Pasta   \n",
       "\n",
       "                                  menus.name  maximum value   longitude  \\\n",
       "1    Vegetarian Large Pizza Catering Package          243.0 -118.340400   \n",
       "2   Adventurous Large Pizza Catering Package          243.0 -118.340400   \n",
       "3  CPK Classics Large Pizza Catering Package          243.0 -118.340400   \n",
       "4    Vegetarian Large Pizza Catering Package          243.0 -118.465110   \n",
       "5   Adventurous Large Pizza Catering Package          243.0 -118.465110   \n",
       "6                         Pizza By the Slice            NaN  -84.395632   \n",
       "7                               6\" Pizza Sub            NaN  -80.996825   \n",
       "8                         French Bread Pizza            NaN  -80.996825   \n",
       "9                    Garlic Herb Pizza Crust            NaN -122.361060   \n",
       "\n",
       "    latitude  minimum value  \n",
       "1  34.102000            NaN  \n",
       "2  34.102000            NaN  \n",
       "3  34.102000            NaN  \n",
       "4  34.054118            NaN  \n",
       "5  34.054118            NaN  \n",
       "6  39.357537           0.25  \n",
       "7  40.272624           0.25  \n",
       "8  40.272624           0.25  \n",
       "9  47.690630           0.25  "
      ]
     },
     "metadata": {},
     "output_type": "display_data"
    },
    {
     "name": "stdout",
     "output_type": "stream",
     "text": [
      "========================================================================================================================\n"
     ]
    },
    {
     "data": {
      "application/vnd.plotly.v1+json": {
       "config": {
        "plotlyServerURL": "https://plot.ly"
       },
       "data": [
        {
         "lat": [
          34.102,
          34.102,
          34.102,
          34.054118,
          34.054118,
          39.357537,
          40.272624,
          40.272624,
          47.69063
         ],
         "lon": [
          -118.3404,
          -118.3404,
          -118.3404,
          -118.46511,
          -118.46511,
          -84.395632,
          -80.996825,
          -80.996825,
          -122.36106
         ],
         "marker": {
          "color": "red"
         },
         "mode": "markers",
         "text": [
          "California Pizza Kitchen",
          "California Pizza Kitchen",
          "California Pizza Kitchen",
          "California Pizza Kitchen",
          "California Pizza Kitchen",
          "Fratellis Pizzeria",
          "DiAngelos",
          "DiAngelos",
          "Stacia's Gourmet Pizza and Pasta"
         ],
         "type": "scattergeo"
        }
       ],
       "layout": {
        "geo": {
         "scope": "usa"
        },
        "template": {
         "data": {
          "bar": [
           {
            "error_x": {
             "color": "#2a3f5f"
            },
            "error_y": {
             "color": "#2a3f5f"
            },
            "marker": {
             "line": {
              "color": "#E5ECF6",
              "width": 0.5
             },
             "pattern": {
              "fillmode": "overlay",
              "size": 10,
              "solidity": 0.2
             }
            },
            "type": "bar"
           }
          ],
          "barpolar": [
           {
            "marker": {
             "line": {
              "color": "#E5ECF6",
              "width": 0.5
             },
             "pattern": {
              "fillmode": "overlay",
              "size": 10,
              "solidity": 0.2
             }
            },
            "type": "barpolar"
           }
          ],
          "carpet": [
           {
            "aaxis": {
             "endlinecolor": "#2a3f5f",
             "gridcolor": "white",
             "linecolor": "white",
             "minorgridcolor": "white",
             "startlinecolor": "#2a3f5f"
            },
            "baxis": {
             "endlinecolor": "#2a3f5f",
             "gridcolor": "white",
             "linecolor": "white",
             "minorgridcolor": "white",
             "startlinecolor": "#2a3f5f"
            },
            "type": "carpet"
           }
          ],
          "choropleth": [
           {
            "colorbar": {
             "outlinewidth": 0,
             "ticks": ""
            },
            "type": "choropleth"
           }
          ],
          "contour": [
           {
            "colorbar": {
             "outlinewidth": 0,
             "ticks": ""
            },
            "colorscale": [
             [
              0,
              "#0d0887"
             ],
             [
              0.1111111111111111,
              "#46039f"
             ],
             [
              0.2222222222222222,
              "#7201a8"
             ],
             [
              0.3333333333333333,
              "#9c179e"
             ],
             [
              0.4444444444444444,
              "#bd3786"
             ],
             [
              0.5555555555555556,
              "#d8576b"
             ],
             [
              0.6666666666666666,
              "#ed7953"
             ],
             [
              0.7777777777777778,
              "#fb9f3a"
             ],
             [
              0.8888888888888888,
              "#fdca26"
             ],
             [
              1,
              "#f0f921"
             ]
            ],
            "type": "contour"
           }
          ],
          "contourcarpet": [
           {
            "colorbar": {
             "outlinewidth": 0,
             "ticks": ""
            },
            "type": "contourcarpet"
           }
          ],
          "heatmap": [
           {
            "colorbar": {
             "outlinewidth": 0,
             "ticks": ""
            },
            "colorscale": [
             [
              0,
              "#0d0887"
             ],
             [
              0.1111111111111111,
              "#46039f"
             ],
             [
              0.2222222222222222,
              "#7201a8"
             ],
             [
              0.3333333333333333,
              "#9c179e"
             ],
             [
              0.4444444444444444,
              "#bd3786"
             ],
             [
              0.5555555555555556,
              "#d8576b"
             ],
             [
              0.6666666666666666,
              "#ed7953"
             ],
             [
              0.7777777777777778,
              "#fb9f3a"
             ],
             [
              0.8888888888888888,
              "#fdca26"
             ],
             [
              1,
              "#f0f921"
             ]
            ],
            "type": "heatmap"
           }
          ],
          "heatmapgl": [
           {
            "colorbar": {
             "outlinewidth": 0,
             "ticks": ""
            },
            "colorscale": [
             [
              0,
              "#0d0887"
             ],
             [
              0.1111111111111111,
              "#46039f"
             ],
             [
              0.2222222222222222,
              "#7201a8"
             ],
             [
              0.3333333333333333,
              "#9c179e"
             ],
             [
              0.4444444444444444,
              "#bd3786"
             ],
             [
              0.5555555555555556,
              "#d8576b"
             ],
             [
              0.6666666666666666,
              "#ed7953"
             ],
             [
              0.7777777777777778,
              "#fb9f3a"
             ],
             [
              0.8888888888888888,
              "#fdca26"
             ],
             [
              1,
              "#f0f921"
             ]
            ],
            "type": "heatmapgl"
           }
          ],
          "histogram": [
           {
            "marker": {
             "pattern": {
              "fillmode": "overlay",
              "size": 10,
              "solidity": 0.2
             }
            },
            "type": "histogram"
           }
          ],
          "histogram2d": [
           {
            "colorbar": {
             "outlinewidth": 0,
             "ticks": ""
            },
            "colorscale": [
             [
              0,
              "#0d0887"
             ],
             [
              0.1111111111111111,
              "#46039f"
             ],
             [
              0.2222222222222222,
              "#7201a8"
             ],
             [
              0.3333333333333333,
              "#9c179e"
             ],
             [
              0.4444444444444444,
              "#bd3786"
             ],
             [
              0.5555555555555556,
              "#d8576b"
             ],
             [
              0.6666666666666666,
              "#ed7953"
             ],
             [
              0.7777777777777778,
              "#fb9f3a"
             ],
             [
              0.8888888888888888,
              "#fdca26"
             ],
             [
              1,
              "#f0f921"
             ]
            ],
            "type": "histogram2d"
           }
          ],
          "histogram2dcontour": [
           {
            "colorbar": {
             "outlinewidth": 0,
             "ticks": ""
            },
            "colorscale": [
             [
              0,
              "#0d0887"
             ],
             [
              0.1111111111111111,
              "#46039f"
             ],
             [
              0.2222222222222222,
              "#7201a8"
             ],
             [
              0.3333333333333333,
              "#9c179e"
             ],
             [
              0.4444444444444444,
              "#bd3786"
             ],
             [
              0.5555555555555556,
              "#d8576b"
             ],
             [
              0.6666666666666666,
              "#ed7953"
             ],
             [
              0.7777777777777778,
              "#fb9f3a"
             ],
             [
              0.8888888888888888,
              "#fdca26"
             ],
             [
              1,
              "#f0f921"
             ]
            ],
            "type": "histogram2dcontour"
           }
          ],
          "mesh3d": [
           {
            "colorbar": {
             "outlinewidth": 0,
             "ticks": ""
            },
            "type": "mesh3d"
           }
          ],
          "parcoords": [
           {
            "line": {
             "colorbar": {
              "outlinewidth": 0,
              "ticks": ""
             }
            },
            "type": "parcoords"
           }
          ],
          "pie": [
           {
            "automargin": true,
            "type": "pie"
           }
          ],
          "scatter": [
           {
            "marker": {
             "colorbar": {
              "outlinewidth": 0,
              "ticks": ""
             }
            },
            "type": "scatter"
           }
          ],
          "scatter3d": [
           {
            "line": {
             "colorbar": {
              "outlinewidth": 0,
              "ticks": ""
             }
            },
            "marker": {
             "colorbar": {
              "outlinewidth": 0,
              "ticks": ""
             }
            },
            "type": "scatter3d"
           }
          ],
          "scattercarpet": [
           {
            "marker": {
             "colorbar": {
              "outlinewidth": 0,
              "ticks": ""
             }
            },
            "type": "scattercarpet"
           }
          ],
          "scattergeo": [
           {
            "marker": {
             "colorbar": {
              "outlinewidth": 0,
              "ticks": ""
             }
            },
            "type": "scattergeo"
           }
          ],
          "scattergl": [
           {
            "marker": {
             "colorbar": {
              "outlinewidth": 0,
              "ticks": ""
             }
            },
            "type": "scattergl"
           }
          ],
          "scattermapbox": [
           {
            "marker": {
             "colorbar": {
              "outlinewidth": 0,
              "ticks": ""
             }
            },
            "type": "scattermapbox"
           }
          ],
          "scatterpolar": [
           {
            "marker": {
             "colorbar": {
              "outlinewidth": 0,
              "ticks": ""
             }
            },
            "type": "scatterpolar"
           }
          ],
          "scatterpolargl": [
           {
            "marker": {
             "colorbar": {
              "outlinewidth": 0,
              "ticks": ""
             }
            },
            "type": "scatterpolargl"
           }
          ],
          "scatterternary": [
           {
            "marker": {
             "colorbar": {
              "outlinewidth": 0,
              "ticks": ""
             }
            },
            "type": "scatterternary"
           }
          ],
          "surface": [
           {
            "colorbar": {
             "outlinewidth": 0,
             "ticks": ""
            },
            "colorscale": [
             [
              0,
              "#0d0887"
             ],
             [
              0.1111111111111111,
              "#46039f"
             ],
             [
              0.2222222222222222,
              "#7201a8"
             ],
             [
              0.3333333333333333,
              "#9c179e"
             ],
             [
              0.4444444444444444,
              "#bd3786"
             ],
             [
              0.5555555555555556,
              "#d8576b"
             ],
             [
              0.6666666666666666,
              "#ed7953"
             ],
             [
              0.7777777777777778,
              "#fb9f3a"
             ],
             [
              0.8888888888888888,
              "#fdca26"
             ],
             [
              1,
              "#f0f921"
             ]
            ],
            "type": "surface"
           }
          ],
          "table": [
           {
            "cells": {
             "fill": {
              "color": "#EBF0F8"
             },
             "line": {
              "color": "white"
             }
            },
            "header": {
             "fill": {
              "color": "#C8D4E3"
             },
             "line": {
              "color": "white"
             }
            },
            "type": "table"
           }
          ]
         },
         "layout": {
          "annotationdefaults": {
           "arrowcolor": "#2a3f5f",
           "arrowhead": 0,
           "arrowwidth": 1
          },
          "autotypenumbers": "strict",
          "coloraxis": {
           "colorbar": {
            "outlinewidth": 0,
            "ticks": ""
           }
          },
          "colorscale": {
           "diverging": [
            [
             0,
             "#8e0152"
            ],
            [
             0.1,
             "#c51b7d"
            ],
            [
             0.2,
             "#de77ae"
            ],
            [
             0.3,
             "#f1b6da"
            ],
            [
             0.4,
             "#fde0ef"
            ],
            [
             0.5,
             "#f7f7f7"
            ],
            [
             0.6,
             "#e6f5d0"
            ],
            [
             0.7,
             "#b8e186"
            ],
            [
             0.8,
             "#7fbc41"
            ],
            [
             0.9,
             "#4d9221"
            ],
            [
             1,
             "#276419"
            ]
           ],
           "sequential": [
            [
             0,
             "#0d0887"
            ],
            [
             0.1111111111111111,
             "#46039f"
            ],
            [
             0.2222222222222222,
             "#7201a8"
            ],
            [
             0.3333333333333333,
             "#9c179e"
            ],
            [
             0.4444444444444444,
             "#bd3786"
            ],
            [
             0.5555555555555556,
             "#d8576b"
            ],
            [
             0.6666666666666666,
             "#ed7953"
            ],
            [
             0.7777777777777778,
             "#fb9f3a"
            ],
            [
             0.8888888888888888,
             "#fdca26"
            ],
            [
             1,
             "#f0f921"
            ]
           ],
           "sequentialminus": [
            [
             0,
             "#0d0887"
            ],
            [
             0.1111111111111111,
             "#46039f"
            ],
            [
             0.2222222222222222,
             "#7201a8"
            ],
            [
             0.3333333333333333,
             "#9c179e"
            ],
            [
             0.4444444444444444,
             "#bd3786"
            ],
            [
             0.5555555555555556,
             "#d8576b"
            ],
            [
             0.6666666666666666,
             "#ed7953"
            ],
            [
             0.7777777777777778,
             "#fb9f3a"
            ],
            [
             0.8888888888888888,
             "#fdca26"
            ],
            [
             1,
             "#f0f921"
            ]
           ]
          },
          "colorway": [
           "#636efa",
           "#EF553B",
           "#00cc96",
           "#ab63fa",
           "#FFA15A",
           "#19d3f3",
           "#FF6692",
           "#B6E880",
           "#FF97FF",
           "#FECB52"
          ],
          "font": {
           "color": "#2a3f5f"
          },
          "geo": {
           "bgcolor": "white",
           "lakecolor": "white",
           "landcolor": "#E5ECF6",
           "showlakes": true,
           "showland": true,
           "subunitcolor": "white"
          },
          "hoverlabel": {
           "align": "left"
          },
          "hovermode": "closest",
          "mapbox": {
           "style": "light"
          },
          "paper_bgcolor": "white",
          "plot_bgcolor": "#E5ECF6",
          "polar": {
           "angularaxis": {
            "gridcolor": "white",
            "linecolor": "white",
            "ticks": ""
           },
           "bgcolor": "#E5ECF6",
           "radialaxis": {
            "gridcolor": "white",
            "linecolor": "white",
            "ticks": ""
           }
          },
          "scene": {
           "xaxis": {
            "backgroundcolor": "#E5ECF6",
            "gridcolor": "white",
            "gridwidth": 2,
            "linecolor": "white",
            "showbackground": true,
            "ticks": "",
            "zerolinecolor": "white"
           },
           "yaxis": {
            "backgroundcolor": "#E5ECF6",
            "gridcolor": "white",
            "gridwidth": 2,
            "linecolor": "white",
            "showbackground": true,
            "ticks": "",
            "zerolinecolor": "white"
           },
           "zaxis": {
            "backgroundcolor": "#E5ECF6",
            "gridcolor": "white",
            "gridwidth": 2,
            "linecolor": "white",
            "showbackground": true,
            "ticks": "",
            "zerolinecolor": "white"
           }
          },
          "shapedefaults": {
           "line": {
            "color": "#2a3f5f"
           }
          },
          "ternary": {
           "aaxis": {
            "gridcolor": "white",
            "linecolor": "white",
            "ticks": ""
           },
           "baxis": {
            "gridcolor": "white",
            "linecolor": "white",
            "ticks": ""
           },
           "bgcolor": "#E5ECF6",
           "caxis": {
            "gridcolor": "white",
            "linecolor": "white",
            "ticks": ""
           }
          },
          "title": {
           "x": 0.05
          },
          "xaxis": {
           "automargin": true,
           "gridcolor": "white",
           "linecolor": "white",
           "ticks": "",
           "title": {
            "standoff": 15
           },
           "zerolinecolor": "white",
           "zerolinewidth": 2
          },
          "yaxis": {
           "automargin": true,
           "gridcolor": "white",
           "linecolor": "white",
           "ticks": "",
           "title": {
            "standoff": 15
           },
           "zerolinecolor": "white",
           "zerolinewidth": 2
          }
         }
        },
        "title": {
         "text": "Cheese Pizza"
        }
       }
      },
      "text/html": [
       "<div>                            <div id=\"47e8978a-b65d-4107-a2fb-a80d330675e9\" class=\"plotly-graph-div\" style=\"height:525px; width:100%;\"></div>            <script type=\"text/javascript\">                require([\"plotly\"], function(Plotly) {                    window.PLOTLYENV=window.PLOTLYENV || {};                                    if (document.getElementById(\"47e8978a-b65d-4107-a2fb-a80d330675e9\")) {                    Plotly.newPlot(                        \"47e8978a-b65d-4107-a2fb-a80d330675e9\",                        [{\"lat\":[34.102,34.102,34.102,34.054118,34.054118,39.357537,40.272624,40.272624,47.69063],\"lon\":[-118.3404,-118.3404,-118.3404,-118.46511,-118.46511,-84.395632,-80.996825,-80.996825,-122.36106],\"marker\":{\"color\":\"red\"},\"mode\":\"markers\",\"text\":[\"California Pizza Kitchen\",\"California Pizza Kitchen\",\"California Pizza Kitchen\",\"California Pizza Kitchen\",\"California Pizza Kitchen\",\"Fratellis Pizzeria\",\"DiAngelos\",\"DiAngelos\",\"Stacia's Gourmet Pizza and Pasta\"],\"type\":\"scattergeo\"}],                        {\"template\":{\"data\":{\"bar\":[{\"error_x\":{\"color\":\"#2a3f5f\"},\"error_y\":{\"color\":\"#2a3f5f\"},\"marker\":{\"line\":{\"color\":\"#E5ECF6\",\"width\":0.5},\"pattern\":{\"fillmode\":\"overlay\",\"size\":10,\"solidity\":0.2}},\"type\":\"bar\"}],\"barpolar\":[{\"marker\":{\"line\":{\"color\":\"#E5ECF6\",\"width\":0.5},\"pattern\":{\"fillmode\":\"overlay\",\"size\":10,\"solidity\":0.2}},\"type\":\"barpolar\"}],\"carpet\":[{\"aaxis\":{\"endlinecolor\":\"#2a3f5f\",\"gridcolor\":\"white\",\"linecolor\":\"white\",\"minorgridcolor\":\"white\",\"startlinecolor\":\"#2a3f5f\"},\"baxis\":{\"endlinecolor\":\"#2a3f5f\",\"gridcolor\":\"white\",\"linecolor\":\"white\",\"minorgridcolor\":\"white\",\"startlinecolor\":\"#2a3f5f\"},\"type\":\"carpet\"}],\"choropleth\":[{\"colorbar\":{\"outlinewidth\":0,\"ticks\":\"\"},\"type\":\"choropleth\"}],\"contour\":[{\"colorbar\":{\"outlinewidth\":0,\"ticks\":\"\"},\"colorscale\":[[0.0,\"#0d0887\"],[0.1111111111111111,\"#46039f\"],[0.2222222222222222,\"#7201a8\"],[0.3333333333333333,\"#9c179e\"],[0.4444444444444444,\"#bd3786\"],[0.5555555555555556,\"#d8576b\"],[0.6666666666666666,\"#ed7953\"],[0.7777777777777778,\"#fb9f3a\"],[0.8888888888888888,\"#fdca26\"],[1.0,\"#f0f921\"]],\"type\":\"contour\"}],\"contourcarpet\":[{\"colorbar\":{\"outlinewidth\":0,\"ticks\":\"\"},\"type\":\"contourcarpet\"}],\"heatmap\":[{\"colorbar\":{\"outlinewidth\":0,\"ticks\":\"\"},\"colorscale\":[[0.0,\"#0d0887\"],[0.1111111111111111,\"#46039f\"],[0.2222222222222222,\"#7201a8\"],[0.3333333333333333,\"#9c179e\"],[0.4444444444444444,\"#bd3786\"],[0.5555555555555556,\"#d8576b\"],[0.6666666666666666,\"#ed7953\"],[0.7777777777777778,\"#fb9f3a\"],[0.8888888888888888,\"#fdca26\"],[1.0,\"#f0f921\"]],\"type\":\"heatmap\"}],\"heatmapgl\":[{\"colorbar\":{\"outlinewidth\":0,\"ticks\":\"\"},\"colorscale\":[[0.0,\"#0d0887\"],[0.1111111111111111,\"#46039f\"],[0.2222222222222222,\"#7201a8\"],[0.3333333333333333,\"#9c179e\"],[0.4444444444444444,\"#bd3786\"],[0.5555555555555556,\"#d8576b\"],[0.6666666666666666,\"#ed7953\"],[0.7777777777777778,\"#fb9f3a\"],[0.8888888888888888,\"#fdca26\"],[1.0,\"#f0f921\"]],\"type\":\"heatmapgl\"}],\"histogram\":[{\"marker\":{\"pattern\":{\"fillmode\":\"overlay\",\"size\":10,\"solidity\":0.2}},\"type\":\"histogram\"}],\"histogram2d\":[{\"colorbar\":{\"outlinewidth\":0,\"ticks\":\"\"},\"colorscale\":[[0.0,\"#0d0887\"],[0.1111111111111111,\"#46039f\"],[0.2222222222222222,\"#7201a8\"],[0.3333333333333333,\"#9c179e\"],[0.4444444444444444,\"#bd3786\"],[0.5555555555555556,\"#d8576b\"],[0.6666666666666666,\"#ed7953\"],[0.7777777777777778,\"#fb9f3a\"],[0.8888888888888888,\"#fdca26\"],[1.0,\"#f0f921\"]],\"type\":\"histogram2d\"}],\"histogram2dcontour\":[{\"colorbar\":{\"outlinewidth\":0,\"ticks\":\"\"},\"colorscale\":[[0.0,\"#0d0887\"],[0.1111111111111111,\"#46039f\"],[0.2222222222222222,\"#7201a8\"],[0.3333333333333333,\"#9c179e\"],[0.4444444444444444,\"#bd3786\"],[0.5555555555555556,\"#d8576b\"],[0.6666666666666666,\"#ed7953\"],[0.7777777777777778,\"#fb9f3a\"],[0.8888888888888888,\"#fdca26\"],[1.0,\"#f0f921\"]],\"type\":\"histogram2dcontour\"}],\"mesh3d\":[{\"colorbar\":{\"outlinewidth\":0,\"ticks\":\"\"},\"type\":\"mesh3d\"}],\"parcoords\":[{\"line\":{\"colorbar\":{\"outlinewidth\":0,\"ticks\":\"\"}},\"type\":\"parcoords\"}],\"pie\":[{\"automargin\":true,\"type\":\"pie\"}],\"scatter\":[{\"marker\":{\"colorbar\":{\"outlinewidth\":0,\"ticks\":\"\"}},\"type\":\"scatter\"}],\"scatter3d\":[{\"line\":{\"colorbar\":{\"outlinewidth\":0,\"ticks\":\"\"}},\"marker\":{\"colorbar\":{\"outlinewidth\":0,\"ticks\":\"\"}},\"type\":\"scatter3d\"}],\"scattercarpet\":[{\"marker\":{\"colorbar\":{\"outlinewidth\":0,\"ticks\":\"\"}},\"type\":\"scattercarpet\"}],\"scattergeo\":[{\"marker\":{\"colorbar\":{\"outlinewidth\":0,\"ticks\":\"\"}},\"type\":\"scattergeo\"}],\"scattergl\":[{\"marker\":{\"colorbar\":{\"outlinewidth\":0,\"ticks\":\"\"}},\"type\":\"scattergl\"}],\"scattermapbox\":[{\"marker\":{\"colorbar\":{\"outlinewidth\":0,\"ticks\":\"\"}},\"type\":\"scattermapbox\"}],\"scatterpolar\":[{\"marker\":{\"colorbar\":{\"outlinewidth\":0,\"ticks\":\"\"}},\"type\":\"scatterpolar\"}],\"scatterpolargl\":[{\"marker\":{\"colorbar\":{\"outlinewidth\":0,\"ticks\":\"\"}},\"type\":\"scatterpolargl\"}],\"scatterternary\":[{\"marker\":{\"colorbar\":{\"outlinewidth\":0,\"ticks\":\"\"}},\"type\":\"scatterternary\"}],\"surface\":[{\"colorbar\":{\"outlinewidth\":0,\"ticks\":\"\"},\"colorscale\":[[0.0,\"#0d0887\"],[0.1111111111111111,\"#46039f\"],[0.2222222222222222,\"#7201a8\"],[0.3333333333333333,\"#9c179e\"],[0.4444444444444444,\"#bd3786\"],[0.5555555555555556,\"#d8576b\"],[0.6666666666666666,\"#ed7953\"],[0.7777777777777778,\"#fb9f3a\"],[0.8888888888888888,\"#fdca26\"],[1.0,\"#f0f921\"]],\"type\":\"surface\"}],\"table\":[{\"cells\":{\"fill\":{\"color\":\"#EBF0F8\"},\"line\":{\"color\":\"white\"}},\"header\":{\"fill\":{\"color\":\"#C8D4E3\"},\"line\":{\"color\":\"white\"}},\"type\":\"table\"}]},\"layout\":{\"annotationdefaults\":{\"arrowcolor\":\"#2a3f5f\",\"arrowhead\":0,\"arrowwidth\":1},\"autotypenumbers\":\"strict\",\"coloraxis\":{\"colorbar\":{\"outlinewidth\":0,\"ticks\":\"\"}},\"colorscale\":{\"diverging\":[[0,\"#8e0152\"],[0.1,\"#c51b7d\"],[0.2,\"#de77ae\"],[0.3,\"#f1b6da\"],[0.4,\"#fde0ef\"],[0.5,\"#f7f7f7\"],[0.6,\"#e6f5d0\"],[0.7,\"#b8e186\"],[0.8,\"#7fbc41\"],[0.9,\"#4d9221\"],[1,\"#276419\"]],\"sequential\":[[0.0,\"#0d0887\"],[0.1111111111111111,\"#46039f\"],[0.2222222222222222,\"#7201a8\"],[0.3333333333333333,\"#9c179e\"],[0.4444444444444444,\"#bd3786\"],[0.5555555555555556,\"#d8576b\"],[0.6666666666666666,\"#ed7953\"],[0.7777777777777778,\"#fb9f3a\"],[0.8888888888888888,\"#fdca26\"],[1.0,\"#f0f921\"]],\"sequentialminus\":[[0.0,\"#0d0887\"],[0.1111111111111111,\"#46039f\"],[0.2222222222222222,\"#7201a8\"],[0.3333333333333333,\"#9c179e\"],[0.4444444444444444,\"#bd3786\"],[0.5555555555555556,\"#d8576b\"],[0.6666666666666666,\"#ed7953\"],[0.7777777777777778,\"#fb9f3a\"],[0.8888888888888888,\"#fdca26\"],[1.0,\"#f0f921\"]]},\"colorway\":[\"#636efa\",\"#EF553B\",\"#00cc96\",\"#ab63fa\",\"#FFA15A\",\"#19d3f3\",\"#FF6692\",\"#B6E880\",\"#FF97FF\",\"#FECB52\"],\"font\":{\"color\":\"#2a3f5f\"},\"geo\":{\"bgcolor\":\"white\",\"lakecolor\":\"white\",\"landcolor\":\"#E5ECF6\",\"showlakes\":true,\"showland\":true,\"subunitcolor\":\"white\"},\"hoverlabel\":{\"align\":\"left\"},\"hovermode\":\"closest\",\"mapbox\":{\"style\":\"light\"},\"paper_bgcolor\":\"white\",\"plot_bgcolor\":\"#E5ECF6\",\"polar\":{\"angularaxis\":{\"gridcolor\":\"white\",\"linecolor\":\"white\",\"ticks\":\"\"},\"bgcolor\":\"#E5ECF6\",\"radialaxis\":{\"gridcolor\":\"white\",\"linecolor\":\"white\",\"ticks\":\"\"}},\"scene\":{\"xaxis\":{\"backgroundcolor\":\"#E5ECF6\",\"gridcolor\":\"white\",\"gridwidth\":2,\"linecolor\":\"white\",\"showbackground\":true,\"ticks\":\"\",\"zerolinecolor\":\"white\"},\"yaxis\":{\"backgroundcolor\":\"#E5ECF6\",\"gridcolor\":\"white\",\"gridwidth\":2,\"linecolor\":\"white\",\"showbackground\":true,\"ticks\":\"\",\"zerolinecolor\":\"white\"},\"zaxis\":{\"backgroundcolor\":\"#E5ECF6\",\"gridcolor\":\"white\",\"gridwidth\":2,\"linecolor\":\"white\",\"showbackground\":true,\"ticks\":\"\",\"zerolinecolor\":\"white\"}},\"shapedefaults\":{\"line\":{\"color\":\"#2a3f5f\"}},\"ternary\":{\"aaxis\":{\"gridcolor\":\"white\",\"linecolor\":\"white\",\"ticks\":\"\"},\"baxis\":{\"gridcolor\":\"white\",\"linecolor\":\"white\",\"ticks\":\"\"},\"bgcolor\":\"#E5ECF6\",\"caxis\":{\"gridcolor\":\"white\",\"linecolor\":\"white\",\"ticks\":\"\"}},\"title\":{\"x\":0.05},\"xaxis\":{\"automargin\":true,\"gridcolor\":\"white\",\"linecolor\":\"white\",\"ticks\":\"\",\"title\":{\"standoff\":15},\"zerolinecolor\":\"white\",\"zerolinewidth\":2},\"yaxis\":{\"automargin\":true,\"gridcolor\":\"white\",\"linecolor\":\"white\",\"ticks\":\"\",\"title\":{\"standoff\":15},\"zerolinecolor\":\"white\",\"zerolinewidth\":2}}},\"geo\":{\"scope\":\"usa\"},\"title\":{\"text\":\"Cheese Pizza\"}},                        {\"responsive\": true}                    ).then(function(){\n",
       "                            \n",
       "var gd = document.getElementById('47e8978a-b65d-4107-a2fb-a80d330675e9');\n",
       "var x = new MutationObserver(function (mutations, observer) {{\n",
       "        var display = window.getComputedStyle(gd).display;\n",
       "        if (!display || display === 'none') {{\n",
       "            console.log([gd, 'removed!']);\n",
       "            Plotly.purge(gd);\n",
       "            observer.disconnect();\n",
       "        }}\n",
       "}});\n",
       "\n",
       "// Listen for the removal of the full notebook cells\n",
       "var notebookContainer = gd.closest('#notebook-container');\n",
       "if (notebookContainer) {{\n",
       "    x.observe(notebookContainer, {childList: true});\n",
       "}}\n",
       "\n",
       "// Listen for the clearing of the current output cell\n",
       "var outputEl = gd.closest('.output');\n",
       "if (outputEl) {{\n",
       "    x.observe(outputEl, {childList: true});\n",
       "}}\n",
       "\n",
       "                        })                };                });            </script>        </div>"
      ]
     },
     "metadata": {},
     "output_type": "display_data"
    }
   ],
   "source": [
    "#Question 7:\n",
    "'''\n",
    "where is the most expansive and cheap pizza \n",
    "'''\n",
    "expansive_pizza_df = pizzaria_df[['city','name','menus.name','menus.amountMin','longitude','latitude']][pizzaria_df['menus.amountMin'] == pizzaria_df['menus.amountMin'].max()]\\\n",
    "                                                                         .rename(columns={'menus.amountMin':'maximum value'},\\\n",
    "                                                                                index={3270:1,3285:2,3287:3,4774:4,4775:5})\n",
    "display(expansive_pizza_df)\n",
    "\n",
    "print('==='*40)\n",
    "\n",
    "cheap_pizza_df = pizzaria_df[['city','name','menus.name','menus.amountMax','longitude','latitude']][pizzaria_df['menus.amountMax'] == pizzaria_df['menus.amountMax'].min()]\\\n",
    "                                                                         .rename(columns={'menus.amountMax':'minimum value'},\\\n",
    "                                                                                index={804:1,2777:2,2778:3,7827:4})\n",
    "\n",
    "display(cheap_pizza_df)\n",
    "\n",
    "\n",
    "print('==='*40)\n",
    "all_values_df = expansive_pizza_df.merge(cheap_pizza_df,how='outer').rename(columns={'menus.amountMax':'minimum value','menus.amountMin':'maximum value'},\\\n",
    "                                                                         index={0:1,1:2,2:3,3:4,4:5,5:6,6:7,7:8,8:9})\n",
    "display(all_values_df)\n",
    "\n",
    "print('==='*40)\n",
    "\n",
    "fig = go.Figure(data=go.Scattergeo(\n",
    "        lon = all_values_df['longitude'],\n",
    "        lat = all_values_df['latitude'],\n",
    "        text = all_values_df['name'],\n",
    "        mode = 'markers',\n",
    "        \n",
    "    \n",
    "        marker_color = 'red',\n",
    "        ))\n",
    "\n",
    "fig.update_layout(\n",
    "        title = 'Cheese Pizza',\n",
    "        geo_scope='usa',\n",
    "    )\n",
    "fig.show()\n",
    "\n"
   ]
  },
  {
   "cell_type": "code",
   "execution_count": null,
   "id": "95f6b7a4",
   "metadata": {},
   "outputs": [],
   "source": []
  }
 ],
 "metadata": {
  "kernelspec": {
   "display_name": "Python 3 (ipykernel)",
   "language": "python",
   "name": "python3"
  },
  "language_info": {
   "codemirror_mode": {
    "name": "ipython",
    "version": 3
   },
   "file_extension": ".py",
   "mimetype": "text/x-python",
   "name": "python",
   "nbconvert_exporter": "python",
   "pygments_lexer": "ipython3",
   "version": "3.9.7"
  }
 },
 "nbformat": 4,
 "nbformat_minor": 5
}
